{
 "cells": [
  {
   "cell_type": "markdown",
   "metadata": {},
   "source": [
    "### Finding the most discussed sports in New york Times between 2010 and 2016."
   ]
  },
  {
   "cell_type": "code",
   "execution_count": 10,
   "metadata": {
    "collapsed": false
   },
   "outputs": [
    {
     "name": "stderr",
     "output_type": "stream",
     "text": [
      "C:\\Users\\Rainbow\\Anaconda3\\lib\\site-packages\\ipykernel\\__main__.py:4: DeprecationWarning: This method will be removed in future versions.  Use 'parser.read_file()' instead.\n"
     ]
    }
   ],
   "source": [
    "import requests, configparser, os, sys, json, glob\n",
    "\n",
    "config = configparser.ConfigParser()\n",
    "config.readfp(open(r'config.txt'))"
   ]
  },
  {
   "cell_type": "code",
   "execution_count": 41,
   "metadata": {
    "collapsed": false
   },
   "outputs": [
    {
     "name": "stdout",
     "output_type": "stream",
     "text": [
      "page 119\n",
      "nytimes_data\\Sports\\College Football\\article\\5854831b95d0e0392607682c.json exists\n",
      "nytimes_data\\Sports\\Baseball\\article\\58547ed195d0e03926076826.json exists\n",
      "nytimes_data\\Sports\\College Football\\article\\585475b695d0e03926076819.json exists\n",
      "nytimes_data\\Sports\\Baseball\\article\\5854700e95d0e0392607680d.json exists\n",
      "nytimes_data\\Sports\\Baseball\\article\\58546c8995d0e03926076806.json exists\n",
      "nytimes_data\\Sports\\Soccer\\article\\58546c7995d0e03926076805.json exists\n",
      "nytimes_data\\Sports\\College Football\\article\\58546a7f95d0e039260767ff.json exists\n",
      "nytimes_data\\Sports\\College Football\\article\\5854641b95d0e039260767f2.json exists\n",
      "nytimes_data\\Sports\\Baseball\\article\\585461fc95d0e039260767f0.json exists\n",
      "nytimes_data\\Sports\\Soccer\\article\\58545fca95d0e039260767ec.json exists\n",
      "Storing json files for sports completed.\n"
     ]
    }
   ],
   "source": [
    "i = 119\n",
    "try:\n",
    "    while i < 120:\n",
    "        print('page '+str(i))\n",
    "        uri_path_list = []\n",
    "        sports_list = []\n",
    "        category_list = []\n",
    "\n",
    "        for link in config['uri']:\n",
    "            uri_path_list.append(config.get('uri',link))\n",
    "            break;\n",
    "\n",
    "        directory = config.get('directory_path','directory')\n",
    "        sub_directory = config.get('directory_path','sub_directory')    \n",
    "\n",
    "        for key in config['api_key']:\n",
    "            uri_path_list.append('?api_key='+config.get('api_key',key))\n",
    "            break;                \n",
    "\n",
    "        for param in config['parameters']:\n",
    "            #print(param)\n",
    "            uri_path_list.append('&'+param+'='+config.get('parameters',param))\n",
    "        uri_path_list.append('&page=' + str(i) )\n",
    "\n",
    "        uri_path = ''.join(uri_path_list);\n",
    "        resp = requests.get(uri_path)\n",
    "        request_data = (resp).json();  \n",
    "        if 'errors' in request_data.keys():\n",
    "            raise Exception(request_data['errors'])\n",
    "        elif 'message' in request_data.keys():\n",
    "            raise Exception(request_data['message'])\n",
    "            \n",
    "        #print(directory)\n",
    "        if not os.path.exists(directory):\n",
    "            os.makedirs(directory)\n",
    "\n",
    "        if not os.path.exists(directory+'\\\\'+sub_directory):\n",
    "            os.makedirs(directory+'\\\\'+sub_directory)\n",
    "\n",
    "        #print('Starting to store json files for sports.')    \n",
    "        #print(request_data)\n",
    "        #print(request_data.keys())\n",
    "        \n",
    "        try:    \n",
    "            if( 'response' in request_data.keys() ):\n",
    "                response = request_data['response']\n",
    "                if( 'docs' in response.keys() ):\n",
    "                    docs = response['docs']        \n",
    "                    for doc in docs:\n",
    "                        if( 'subsection_name' in doc.keys() ):\n",
    "                            sport = doc.get('subsection_name')\n",
    "                            if(sport != None):\n",
    "                                sport_path = directory+'\\\\'+sub_directory+'\\\\'+sport;\n",
    "                                if not os.path.exists(sport_path):\n",
    "                                    sports_list.append(sport)\n",
    "                                    os.makedirs(sport_path)\n",
    "\n",
    "                                if( 'document_type' in doc.keys() ):\n",
    "                                    category = doc.get('document_type')\n",
    "                                    if(category != None):\n",
    "                                        category_path = sport_path + '\\\\' + category;\n",
    "                                        if not os.path.exists(category_path):\n",
    "                                            category_list.append(category)\n",
    "                                            os.makedirs(category_path)\n",
    "\n",
    "                                        # put doc data in to correspoding json file inside sport\n",
    "                                        file_path = category_path+'\\\\'+doc.get('_id')+\".json\"\n",
    "                                        if not os.path.exists(file_path):\n",
    "                                            print(file_path+' writing')\n",
    "                                            with open(file_path, \"w\") as outfile:\n",
    "                                                json.dump(doc, outfile, indent=4)\n",
    "                                        else:\n",
    "                                            print(file_path+' exists')                \n",
    "        except ValueError:\n",
    "            print(\"error :\", sys.exc_info()[0])\n",
    "        i = i + 1\n",
    "    print('Storing json files for sports completed.')\n",
    "except Exception as error:\n",
    "    print('Caught this error: ' + repr(error))"
   ]
  },
  {
   "cell_type": "code",
   "execution_count": 42,
   "metadata": {
    "collapsed": false
   },
   "outputs": [
    {
     "name": "stdout",
     "output_type": "stream",
     "text": [
      "Most discussed sports since 2010.\n",
      "\n",
      "196 - Soccer\n",
      "164 - College Basketball\n",
      "127 - Pro Football\n",
      "122 - Pro Basketball\n",
      "98 - Hockey\n",
      "75 - College Football\n",
      "42 - Cricket\n",
      "31 - Tennis\n",
      "22 - Baseball\n",
      "11 - Olympics\n",
      "9 - Cycling\n",
      "8 - Rugby\n",
      "4 - Auto Racing\n",
      "4 - Golf\n",
      "2 - Skiing\n",
      "1 - Sailing\n"
     ]
    }
   ],
   "source": [
    "directory = config.get('directory_path','directory')\n",
    "sub_directory = config.get('directory_path','sub_directory')    \n",
    "search_path = directory+'/'+sub_directory+'/'\n",
    "sports_results = dict()\n",
    "\n",
    "for x in os.walk(directory+'/'+sub_directory):\n",
    "    sports_list = x[1]\n",
    "    break;\n",
    "\n",
    "for sport in sports_list:\n",
    "    count = 0;\n",
    "    sport_path = search_path+sport+'/*/*.json'\n",
    "    for file in glob.glob(sport_path):\n",
    "        count = count + 1\n",
    "    sports_results[sport] = count\n",
    "\n",
    "    \n",
    "sorted_sports_results = [(k, sports_results[k]) for k in sorted(sports_results, key=sports_results.get, reverse=True)]    \n",
    "#print(sorted_sports_results[:5])\n",
    "print(\"Most discussed sports since 2010.\")\n",
    "print()\n",
    "for sport in sorted_sports_results:\n",
    "    print(str(sport[1])+\" - \"+sport[0])"
   ]
  },
  {
   "cell_type": "code",
   "execution_count": null,
   "metadata": {
    "collapsed": true
   },
   "outputs": [],
   "source": []
  }
 ],
 "metadata": {
  "kernelspec": {
   "display_name": "Python 3",
   "language": "python",
   "name": "python3"
  },
  "language_info": {
   "codemirror_mode": {
    "name": "ipython",
    "version": 3
   },
   "file_extension": ".py",
   "mimetype": "text/x-python",
   "name": "python",
   "nbconvert_exporter": "python",
   "pygments_lexer": "ipython3",
   "version": "3.6.0"
  }
 },
 "nbformat": 4,
 "nbformat_minor": 2
}
