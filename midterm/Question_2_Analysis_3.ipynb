{
 "cells": [
  {
   "cell_type": "markdown",
   "metadata": {},
   "source": [
    "### 2016 November is the month where US presidency election took place between Trump and Hilary. This analysis focus on the stand of NYTimes towards each contestants, by analysing the kind of articles published in their newspaper."
   ]
  },
  {
   "cell_type": "markdown",
   "metadata": {},
   "source": [
    "Key analysis:\n",
    "- Conducting sentimental analyis on the articles published during the election month,November 2016\n",
    "- Only considering articles focussing on a contestant directly\n",
    "- Analysing on which months a contestant was favored by counting the frequency of neutral or positive articles.\n",
    "- Graphical representation of results"
   ]
  },
  {
   "cell_type": "code",
   "execution_count": 130,
   "metadata": {
    "collapsed": false
   },
   "outputs": [
    {
     "name": "stderr",
     "output_type": "stream",
     "text": [
      "C:\\Users\\Rainbow\\Anaconda3\\lib\\site-packages\\ipykernel\\__main__.py:5: DeprecationWarning: This method will be removed in future versions.  Use 'parser.read_file()' instead.\n"
     ]
    }
   ],
   "source": [
    "import nltk, requests, configparser, os, sys, json, glob, datetime, time, email, matplotlib.pyplot as plt\n",
    "from nltk.sentiment.vader import SentimentIntensityAnalyzer\n",
    "\n",
    "config = configparser.ConfigParser()\n",
    "config.readfp(open(r'archive-config.txt'))"
   ]
  },
  {
   "cell_type": "code",
   "execution_count": 127,
   "metadata": {
    "collapsed": false
   },
   "outputs": [],
   "source": [
    "sid = SentimentIntensityAnalyzer()\n",
    "def analyse(statement):\n",
    "    ss = sid.polarity_scores(statement)\n",
    "    return ss\n",
    "    #for k in sorted(ss):\n",
    "    #    print('{0}: {1}, '.format(k, ss[k]), end='')"
   ]
  },
  {
   "cell_type": "code",
   "execution_count": 128,
   "metadata": {
    "collapsed": false
   },
   "outputs": [
    {
     "name": "stdout",
     "output_type": "stream",
     "text": [
      "Storing json files for sports completed.\n"
     ]
    }
   ],
   "source": [
    "try: \n",
    "    uri_path_list = []\n",
    "\n",
    "    for link in config['uri']:\n",
    "        uri_path_list.append(config.get('uri',link))\n",
    "        break;\n",
    "    directory = config.get('directory_path','directory')\n",
    "    sub_directory = config.get('directory_path','sub_directory')    \n",
    "\n",
    "    for param in config['parameters']:\n",
    "        #print(param)\n",
    "        uri_path_list.append('/'+config.get('parameters',param))\n",
    "    uri_path_list.append('.json')    \n",
    "    \n",
    "    for key in config['api_key']:\n",
    "        uri_path_list.append('?api_key='+config.get('api_key',key))\n",
    "        break;                \n",
    "\n",
    "    uri_path = ''.join(uri_path_list);\n",
    "    #print(uri_path)\n",
    "    \n",
    "    resp = requests.get(uri_path)\n",
    "    request_data = (resp).json();  \n",
    "    if 'errors' in request_data.keys():\n",
    "        raise Exception(request_data['errors'])\n",
    "    elif 'message' in request_data.keys():\n",
    "        raise Exception(request_data['message'])\n",
    "\n",
    "    #print(directory)\n",
    "    if not os.path.exists(directory):\n",
    "        os.makedirs(directory)\n",
    "\n",
    "    if not os.path.exists(directory+'\\\\'+sub_directory):\n",
    "        os.makedirs(directory+'\\\\'+sub_directory)\n",
    "        \n",
    "    #print('Starting to store json files for sports.')    \n",
    "    #print(request_data)\n",
    "    #print(request_data.keys())\n",
    "    \n",
    "    section = []\n",
    "\n",
    "    try:\n",
    "        if( 'response' in request_data.keys() ):\n",
    "            response = request_data['response']\n",
    "            if( 'docs' in response.keys() ):\n",
    "                docs = response['docs']        \n",
    "                for doc in docs:\n",
    "                    if( 'section_name' in doc.keys() ):\n",
    "                        sname = doc['section_name']\n",
    "                        if sname not in section:\n",
    "                            section.append(sname)\n",
    "                        if sname == 'U.S.':\n",
    "                            #if( 'section_name' in doc.keys() ):\n",
    "                            #print(doc['headline']['main']+' = '+doc['pub_date'])\n",
    "                            us_path = directory+'\\\\'+sub_directory+'\\\\US';\n",
    "                            if not os.path.exists(us_path):\n",
    "                                os.makedirs(us_path)\n",
    "                            if( '_id' in doc.keys() ):\n",
    "                                file_path = us_path+'\\\\'+doc.get('_id')+\".json\"\n",
    "                                if not os.path.exists(file_path):\n",
    "                                    #print(doc['headline']['main']+' = '+doc['pub_date'])\n",
    "                                    with open(file_path, \"w\") as outfile:\n",
    "                                        json.dump(doc, outfile, indent=4)\n",
    "                                #else:\n",
    "                                    #print(doc['headline']['main']+' = '+doc['pub_date']+' exists')\n",
    "    \n",
    "    except ValueError:\n",
    "        print(\"error :\", sys.exc_info()[0])\n",
    "    print('Storing json files for sports completed.')\n",
    "except Exception as error:\n",
    "    print('Caught this error: ' + repr(error))"
   ]
  },
  {
   "cell_type": "markdown",
   "metadata": {},
   "source": [
    "Analysing the data..."
   ]
  },
  {
   "cell_type": "code",
   "execution_count": 129,
   "metadata": {
    "collapsed": false
   },
   "outputs": [
    {
     "name": "stdout",
     "output_type": "stream",
     "text": [
      "Article analysis for month of November.\n",
      "\n",
      "30 articles published against Hilary\n",
      "16 articles published for Hilary\n",
      "\n",
      "150 articles published against Trump\n",
      "52 articles published for Trump\n",
      "\n",
      "Graphical representation of articles against Hilary towards election\n",
      "[2, 1, 7, 3, 6, 2, 3, 2, 1, 1, 1, 1]\n",
      "[2, 3, 4, 5, 6, 7, 8, 9, 12, 13, 18, 22]\n"
     ]
    },
    {
     "data": {
      "image/png": "[encoded data removed]",
      "text/plain": [
       "<matplotlib.figure.Figure at 0xe4f1b08f28>"
      ]
     },
     "metadata": {},
     "output_type": "display_data"
    },
    {
     "name": "stdout",
     "output_type": "stream",
     "text": [
      "Graphical representation of articles against Trump towards election\n",
      "[4, 2, 1, 2, 2, 2, 3, 11, 11, 9, 13, 4, 9, 5, 7, 8, 6, 9, 2, 3, 8, 8, 5, 1, 2, 4, 8, 1]\n",
      "[2, 3, 4, 5, 6, 7, 8, 9, 10, 11, 12, 13, 14, 15, 16, 17, 18, 19, 20, 21, 22, 23, 24, 26, 27, 28, 29, 30]\n"
     ]
    },
    {
     "data": {
      "image/png": "[encoded data removed]",
      "text/plain": [
       "<matplotlib.figure.Figure at 0xe4f6aac160>"
      ]
     },
     "metadata": {},
     "output_type": "display_data"
    },
    {
     "name": "stdout",
     "output_type": "stream",
     "text": [
      "Plotting data completed.\n"
     ]
    }
   ],
   "source": [
    "import datetime, time, email\n",
    "\n",
    "directory = config.get('directory_path','directory')\n",
    "sub_directory = config.get('directory_path','sub_directory')    \n",
    "search_path = directory+'/'+sub_directory+'/US/'\n",
    "\n",
    "election_results = dict()\n",
    "monthly_results = dict()\n",
    "total_article_count = 0;\n",
    "parameters = ['for','against']\n",
    "\n",
    "trump = 'Trump'\n",
    "hilary = 'Hilary'\n",
    "try:\n",
    "    for file in glob.glob(search_path+'*.json'):\n",
    "        with open(file, 'r') as f:\n",
    "            data = json.load(f)\n",
    "\n",
    "            article_date = data['pub_date']\n",
    "            parse_date = datetime.datetime.strptime(article_date[:10], \"%Y-%m-%d\")\n",
    "            date_entry = parse_date\n",
    "            #date_entry = parse_date.strftime(\"%B\")+'-'+parse_date.strftime(\"%Y\")\n",
    "            #print(date_entry)\n",
    "\n",
    "            #condition\n",
    "            if(parse_date > datetime.datetime(2016,11,1) and parse_date < datetime.datetime(2016,12,10)): \n",
    "\n",
    "                if 'headline' in data.keys() and 'main' in data['headline']:\n",
    "                    headline = data['headline']['main']\n",
    "\n",
    "                    #if 'trump' in headline.lower() and 'clinton' in headline.lower():\n",
    "                    #    print(headline.lower())\n",
    "                    #elif 'trump' in headline.lower():\n",
    "                    #    //trump\n",
    "                    #elif 'hilary' in headline.lower():    \n",
    "                    #    //hilary\n",
    "                    if 'hilary' in headline.lower() or 'clinton' in headline.lower():\n",
    "                        result = analyse(headline)\n",
    "                        neg = result['neg']\n",
    "                        pos = result['pos']\n",
    "                        #print(result)\n",
    "                        if pos > neg:\n",
    "                            if hilary in election_results.keys():\n",
    "                                hobject = election_results[hilary]\n",
    "                                if parameters[0] in hobject.keys():\n",
    "                                    election_results[hilary][parameters[0]] += 1\n",
    "                                else:\n",
    "                                    election_results[hilary][parameters[0]] = 1\n",
    "                            else:\n",
    "                                election_results[hilary] = dict()\n",
    "                                election_results[hilary][parameters[0]] = 1\n",
    "\n",
    "                        else:\n",
    "                            if hilary in election_results.keys():\n",
    "                                hobject = election_results[hilary]\n",
    "                                if parameters[1] in hobject.keys():\n",
    "                                    election_results[hilary][parameters[1]] += 1\n",
    "                                else:\n",
    "                                    election_results[hilary][parameters[1]] = 1\n",
    "                            else:\n",
    "                                election_results[hilary] = dict()\n",
    "                                election_results[hilary][parameters[1]] = 1\n",
    "                            \n",
    "                            #date entry for negative articles only\n",
    "                            if date_entry in monthly_results.keys():\n",
    "                                contestants = monthly_results[date_entry]\n",
    "                                if hilary in contestants.keys():\n",
    "                                    contestants[hilary] += 1\n",
    "                                else:\n",
    "                                    contestants[hilary] = 1\n",
    "                            else:\n",
    "                                monthly_results[date_entry] = dict()\n",
    "                                monthly_results[date_entry][hilary] = 1\n",
    "\n",
    "                    elif 'trump' in headline.lower() or 'donald' in headline.lower():\n",
    "                        #print(headline)\n",
    "                        result = analyse(headline)\n",
    "                        neg = result['neg']\n",
    "                        pos = result['pos']\n",
    "                        #print(result)\n",
    "\n",
    "                        if pos > neg:\n",
    "                            #print(headline.lower())\n",
    "                            if trump in election_results.keys():\n",
    "                                hobject = election_results[trump]\n",
    "                                if parameters[0] in hobject.keys():\n",
    "                                    election_results[trump][parameters[0]] += 1\n",
    "                                else:\n",
    "                                    election_results[trump][parameters[0]] = 1\n",
    "                            else:\n",
    "                                election_results[trump] = dict()\n",
    "                                election_results[trump][parameters[0]] = 1\n",
    "                        else:\n",
    "                            if trump in election_results.keys():\n",
    "                                hobject = election_results[trump]\n",
    "                                if 'against' in hobject.keys():\n",
    "                                    election_results[trump][parameters[1]] += 1\n",
    "                                else:\n",
    "                                    election_results[trump][parameters[1]] = 1\n",
    "                            else:\n",
    "                                election_results[trump] = dict()\n",
    "                                election_results[trump][parameters[1]] = 1\n",
    "                                \n",
    "                            #date entry for negative articles only\n",
    "                            if date_entry in monthly_results.keys():\n",
    "                                contestants = monthly_results[date_entry]\n",
    "                                if trump in contestants.keys():\n",
    "                                    contestants[trump] += 1\n",
    "                                else:\n",
    "                                    contestants[trump] = 1\n",
    "                            else:\n",
    "                                monthly_results[date_entry] = dict()\n",
    "                                monthly_results[date_entry][trump] = 1\n",
    "except Exception as error:\n",
    "    print('Caught this error: ' + repr(error))\n",
    "\n",
    "#print(election_results) \n",
    "print(\"Article analysis for month of November.\")\n",
    "for contestant,res in election_results.items():\n",
    "    print()\n",
    "    for r,v in res.items():\n",
    "        w = (\"{0} articles published {1} {2}\").format(v,r,contestant)\n",
    "        print(w)\n",
    "\n",
    "print()\n",
    "#print(monthly_results) \n",
    "hilary_freq = []\n",
    "hilary_date_list = [];\n",
    "trump_freq = []\n",
    "trump_date_list = [];\n",
    "\n",
    "for adate,contestants in monthly_results.items():\n",
    "    for cont,count in contestants.items():\n",
    "        if cont == hilary:\n",
    "            hilary_date_list.append(int(adate.strftime(\"%d\")))\n",
    "            hilary_freq.append(count)\n",
    "            #print(str(count)+\" - \"+cont)\n",
    "        else:\n",
    "            trump_date_list.append(int(adate.strftime(\"%d\")))\n",
    "            trump_freq.append(count)\n",
    "\n",
    "\n",
    "import matplotlib.pyplot as plt\n",
    "\n",
    "print(\"Graphical representation of articles against Hilary towards election\")\n",
    "print(hilary_freq)\n",
    "print(hilary_date_list)\n",
    "plt.plot(hilary_date_list,hilary_freq, label='Hilary articles!')\n",
    "plt.xlabel('Date ->')\n",
    "plt.ylabel('Frequency')\n",
    "plt.legend()\n",
    "plt.show()\n",
    "\n",
    "print(\"Graphical representation of articles against Trump towards election\")\n",
    "print(trump_freq)\n",
    "print(trump_date_list)\n",
    "plt.plot(trump_date_list,trump_freq, label='Trump articles!')\n",
    "plt.xlabel('Date ->')\n",
    "plt.ylabel('Frequency')\n",
    "plt.legend()\n",
    "plt.show()\n",
    "\n",
    "\n",
    "print('Plotting data completed.')"
   ]
  },
  {
   "cell_type": "code",
   "execution_count": null,
   "metadata": {
    "collapsed": true
   },
   "outputs": [],
   "source": []
  }
 ],
 "metadata": {
  "kernelspec": {
   "display_name": "Python 3",
   "language": "python",
   "name": "python3"
  },
  "language_info": {
   "codemirror_mode": {
    "name": "ipython",
    "version": 3
   },
   "file_extension": ".py",
   "mimetype": "text/x-python",
   "name": "python",
   "nbconvert_exporter": "python",
   "pygments_lexer": "ipython3",
   "version": "3.6.0"
  }
 },
 "nbformat": 4,
 "nbformat_minor": 2
}
