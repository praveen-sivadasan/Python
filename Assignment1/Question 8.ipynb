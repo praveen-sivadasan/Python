{
 "cells": [
  {
   "cell_type": "markdown",
   "metadata": {},
   "source": [
    "# Question 8\n",
    "-Use nps_chat and wordlist corpus.\n",
    "-If you find a word in nps_chat but not in wordlist, it is considered an unusual word. (e.g. Heyyyy, gr8, 4ever can be --considered unusual words for this analysis)\n",
    "-Find out how many unusual words people speak in chat (notice: usernames should not be counted)\n",
    "Bonus: What if I want to  count : ) , : ( all these emoticons in. (optional)\n"
   ]
  },
  {
   "cell_type": "code",
   "execution_count": 4,
   "metadata": {
    "collapsed": true
   },
   "outputs": [],
   "source": [
    "import re"
   ]
  },
  {
   "cell_type": "code",
   "execution_count": 19,
   "metadata": {
    "collapsed": false
   },
   "outputs": [
    {
     "name": "stdout",
     "output_type": "stream",
     "text": [
      "Total number of words:\n",
      "1456\n",
      "\n",
      "Unusual words \n",
      "\n",
      "['im', ':P', ':)', 'ky', 'women', 'pm', 'fuck', ':@', 'ladis', 'wanna', 'lol', 'ewwwww', 'heeeey', 'tennessee', 'nashville', 'ogan', 'haha', 'brb', 'opps', 'guyz', 'nc', 'mom', 'gooo', 'yeee', 'ihavehotnips', 'wb', 'ty', 'hahaha', 'yw', 'iamahotnip', 'fucking', 'lmao', 'ahah', 'iamahotniplickme', 'ny', 'appearently', 'cya', 'outta', ';)', 'iamahotnipwithpics', 'uh', 'isnt', 'yayayayayyy', 'oooooo', 'doin', 'lmaoo', 'iamahotnipwithhotnippics', 'kts', 'dr', 'seuss', 'hiya', 'omg', 'hang', 'yay', 'geeshhh', 'ppl', 'pervs', 'gottsa', 'aww', 'forwads', 'misbeahve', 'vbox', 'having', 'kinda', 'lookin', 'jerkettes', 'lolololll', 'serg', 'beeehave', 'co', 'anithing', 'jerketts', 'wtf', 'awwwwww', ':(', 'gettign', 'noo', 'heyy', 'naughtier', 'hmm', 'bein', 'ahahah', 'uk', 'lmfao', 'hmph', 'sheesh', 'perv', 'spain', 'dumbass', 'kev', 'fetterline', 'shit', 'il', 'bbl', 'hahah', 'enuff', 'webcams', 'lmaoooo', 'kidding', 'douchebag', 'meredith', 'nads', 'asl', 'lmaooo', 'nad', 'ewwww', 'ewwwwww', 'owww', 'ughhh', 'gagas', 'hangs', 'meep', 'beeeeehave', 'jk', 'asshole', 'erm', 'mmhmm', 'lix', 'ummm', 'cyber', 'darlin', 'youre', 'ooo', 'nite', 'lool', 'oo', 'ooooook', 'urself', 'sexist', 'peolpe', 'okay', 'geeshh', 'gonna', 'chococake', 'yum', 'kc', 'cheaking', 'smax', 'hehehe', 'sowwy', 'vvil', 'mmm', 'paypal', 'thru', 'umm', 'este', 'dat', 'wana', 'chik', 'ignoring', 'cmon', 'cuz', 'london', 'roleplay', 'tellin', 'illin', 'vm', 'tv', 'youer', 'uhh', 'ahh', 'boyz', 'ii', 'boght', 'horrified', 'byb', 'intersting', 'martini', 'laterssss', 'byeeee', 'mauh', 'fav', 'stirred', 'ques', 'shakin', 'cali', 'hmmmmmmm', 'hb', 'teenagers', 'martinis', 'wooooohoooo', 'definitley', 'yeppers', 'mame', 'nada', 'mikeeeeeeeeeeeeeeeeeeeeeeeeee', 'nic', 'chatted', 'alot', 'quistion', 'gentlemen', 'nce', 'geeze', 'oppsss', 'oooooooooooooonnnnnnnnnnnneeeeeeeeeeeeeeesssssssss', 'ooopppps', 'oopps', 'll', 'gotta', 'psh', 'anymore', 'knockin', 'girlfriend', 'doody', 'canadain', 'waht', 'whjat', 'obbts', 'ooppsss', 'bio', 'nyone', 'wothough', 'hiom', 'smallfry', 'dman', 'com', 'oppertunity', 'oooooooooooo', 'lb', 'gente', 'despie', 'neverneverland', 'privmsg', 'weeeeeeeeeeeeeeeeee', 'schlep', 'ctrl', 'mama', 'hr', 'awww', 'mornign', 'niteeeeeeeeeeeeeeeeeee', 'brooklyn', 'frst', 'watchin', 'louisianna', 'stron', 'whaaaaats', 'splenda', 'subsitute', 'comp', 'freaing', 'puter', 'bootay', 'weeeeeeeee', 'categories', 'euphamisms', 'laptop', 'virius', 'lurkin', 'eeek', 'ysssssssss', 'tjhe', 'welll', 'excuuuuuuse', 'babblein', 'misbehaving', 'fart', 'shoppin', 'helloooo', 'gm', 'heee', 'ontario', 'canehda', 'fock', 'metallica', 'kool', 'dya', 'kold', 'comin', 'mris', 'russion', 'thanx', 'ahhhh', 'spose', 'mm', 'hx', 'hix', 'fallout', 'grrrrrrrrr', 'blew', 'aok', 'worries', 'hertory', 'heya', 'brady', 'oops', 'booboo', 'xxxxxx', 'oooh', 'lala', 'nicnames', 'awwwwwwwwww', 'gayoholic', 'foley', 'naples', 'compoud', 'vetrabrate', 'ssid', 'hearin', 'fishin', 'opr', 'italy', 'sicily', 'teh', 'nebraska', 'backatchya', 'ops', 'op', 'photshopped', 'typing', 'px', 'hio', 'ryaon', 'deop', 'hugsssss', 'hiy', 'thnx', 'congrat', 'tc', 'whatcha', 'beachhhh', 'sympathies', 'proocessing', 'software', 'oldest', 'wowsa', 'uyes', 'benz', 'knw', 'ja', 'hmmmmm', 'hmmmm', 'whistlin', 'whisling', 'grrr', 'muzak', 'ahhhhhh', 'yepper', 'defragging', 'bandito', 'chatland', 'yikes', 'frags', ':):):)', 'fragged', 'prolly', 'porn', 'sorta', 'defrags', 'heeee', 'playin', 'plssss', 'cripos', 'handyman', 'goin', 'arggghhh', 'denver', 'priorities', 'messaging', 'dawnstar', 'ooh', 'daamn', 'sucka', 'hiyas', 'bloe', 'whooo', 'hooo', 'sumfin', 'damnit', 'ciao', 'yerself', 'thinkin', 'thje', 'alwys', 'afe', 'remembah', 'pp', 'wth', 'awwww', 'concernin', 'ahhh', 'ff', 'gf', 'rotflmao', 'myspace', 'lovelies', 'whoopz', 'talkin', 'typin', 'plently', 'pussies', 'pokin', 'ooer', 'hola', 'bf', 'sry', 'congrats', 'diggin', 'dojn', 'soojn', 'luverz', 'nm', 'wubs', 'mkay', 'harley', 'ohh', 'yup', 'imma', 'fuddahnut', 'stories', 'hawt', 'mopeds', 'screach', 'muahhhhh', 'imhave', 'huuuuuuuuuuuuuuuuuuuuuuuuuuuuuuuuuuugz', 'online', 'msn', 'qq', 'hm', 'wooooooooooooohoooooooooooooooo', 'streched', 'jayse', 'tx', 'wahoooooooski', 'wz', 'pdt', 'elev', 'ft', 'hpa', 'muahhh', 'respec', 'fairbanks', 'bc', 'joshy', 'akdt', 'dropped', 'pfft', 'azerbaijan', 'syck', 'chatr', 'neone', 'tere', 'ohhh', 'cdt', 'smirkz', 'afk', 'bahahahaa', 'werd', 'rofl', 'cus', 'totaly', 'depeche', 'asnwer', 'muh', 'birfday', 'mmmmk', 'kiddin', 'dunno', 'xxxed', 'wisconsin', 'ooeer', 'ghet', 'fuked', 'pvt', 'skateboard', 'wif', 'biyatch', 'denzel', 'moanin', 'hiding', 'sammich', 'fallz', 'offa', 'laffin', 'whoaaaaaaaaaaaa', 'tootsie', 'freakin', 'ridin', 'dood', 'bi', 'reallly', 'brrrrrrr', 'jeter', 'rothlisburger', 'agaibn', 'listenin', 'wigglez', 'weenis', 'sexcite', 'moanz', 'nickelback', 'twoel', 'schmoopies', 'argh', 'gawd', 'contemplating', 'nickleback', 'hafta', 'heyyyy', 'sweetshybbw', 'shaun', 'gaaaaaaay', 'soo', 'kid', 'aqwesome', 'flatts', 'hehehee', 'teehee', 'nodda', 'wearin', 'othah', 'halfa', 'fillin', 'yawnssss', 'okikes', 'gtg', 'okey', 'dokey', 'worl', 'injureis', 'awrighty', 'rumour', 'huggs', 'rumours', 'smoochies', 'hiiii', 'hugss', 'macho', 'hehehehe', 'magine', 'daveeee', 'coonarsee', 'heyyy', 'thang', 'cepn', 'fella', 'clooney', 'ohhhhhhhhhhhhhhhh', 'purty', 'wimmins', 'hii', 'nawp', 'cheking', 'hahahaha', 'fwd', 'dem', 'plz', 'hugggs', 'ol', 'askin', 'huggss', 'shups', 'realises', 'sumpin', 'byeeeeeeee', 'shhhh', 'ello', 'backroom', 'grrrrrrrr', 'caint', 'nuttin', 'hugsssssssss', 'byeee', 'everytime', 'deeper', 'pssst', 'alzheimers', 'waitin', 'yu', 'hahahahaaa', 'gezzz', 'hahhahahaha', 'noooooooooo', 'eeeek', 'robbie', 'orta', 'homeboys', 'ebay', 'coem', 'pujols', 'iz', 'hottie', 'adoted', 'giva', 'bbs', 'redneck', 'mcgraw', 'errrrr', 'fer', 'doublewide', 'eeewww', 'mowin', 'hiii', 'barfights', 'yall', 'movin', 'tryin', 'sheesin', 'cyas', 'pervin', 'grrl', 'heyyyyy', 'shup', 'tooo', 'jumpin', 'goooooo', 'cookies', 'choc', 'cookie', 'poorrr', 'mmmm', 'oatmel', 'nooooo', 'wher', 'hopin', 'hahahhahah', 'grrrrrrrrrrrrrrrrr', 'hooooo', 'grrrrrring', 'nakie', 'yikesssss', 'ohhhhhh', 'lil', 'ewwwwwww', 'perving', 'lysol', 'uffff', 'veg', 'infor', 'ooooooo', 'pming', 'liam', 'rapest', 'offence', 'homophobic', 'donno', 'completly', 'specalily', 'horriable', 'feet', 'kellogs', 'xbox', 'minigames', 'splelnig', 'scuk', 'aynawy', 'heard', 'sevendust', 'sigur', 'controll', 'handheld', 'playstation', 'soilwork', 'pc', 'woot', 'gamefly', 'glitches', 'netflix', 'definately', 'dvd', 'ico', 'kickass', 'nerd', 'foreplay', 'niceeeee', 'ep', 'niceeee', 'nyc', 'recomend', 'haaa', 'confusting', 'zebrahead', 'realise', 'sharing', 'beleive', 'adduser', 'chanop', 'bwhaha', 'heh', 'nah', 'ehh', 'chanowner', 'lez', 'hott', 'doupt', 'hfglhs', 'hallo', 'salut', 'roadrunner', 'jordison', 'mmmmm', 'contast', 'deciding', 'sexiest', 'perth', 'ive', 'que', 'pasa', 'nadda', 'chingy', 'tyrese', 'pullin', 'dork', 'silverstein', 'suree', 'bro', 'hom', 'wanan', 'awesomee', 'phylosipher', 'sp', 'frm', 'jush', 'grlz', 'boinked', 'innocense', 'cougs', 'suprised', 'whitesnake', 'jto', 'children', 'nooooooooooooooo', 'bodies', 'bak', 'blowjob', 'va', 'pffft', 'muahzzzz', 'muah', 'fawk', 'farting', 'burito', 'eww', 'burpin', 'ohhhh', 'pweeze', 'dangit', 'muahz', 'neked', 'lolol', 'shaneeeeeeeee', 'lixxx', 'jw', 'smarter', 'buddyyyyyy', 'dokken', 'wel', 'lthen', 'alotta', 'ck', 'ack', 'wahoooooooo', 'abou', 'tthe', 'fawked', 'hearthechatters', 'nakey', 'nj', 'bwahahahahahahahahahaha', 'cleveland', 'babiess', 'awwwwwww', 'wonderin', 'ltnsea', 'eeekk', 'hmmmmmmmm', 'popped', 'prrty', 'oi', 'noooooooooooooo', 'thanksss', 'loc', 'aterry', 'whispre', 'downnnnnn', 'freeezinggggg', 'omggg', 'humm', 'dotn', 'gaspppp', 'newp', 'coggieeee', 'youuu', 'hugsss', 'couldnt', 'comps', 'themselvs', 'abourted', 'pmsl', 'laughin', 'proud', 'freeeezinggg', 'blankie', 'driveby', 'pmers', 'oot', 'hmmm', 'apoligize', 'btw', 'bachelorette', 'wansta', 'receprion', 'outa', 'nekkies', 'buh', 'retahhhhded', 'dunkin', 'donuts', 'pssssh', 'cries', 'havin', 'yooou', 'tonawanda', 'muhaha', 'yoooou', 'anythin', 'tdr', 'riiiiight', 'heheh', 'wussups', 'sesky', 'ooooooooooo', 'ahahh', 'biiiatch', 'louder', 'xxxxxxxxxx', 'whitte', 'webcam', 'ewww', 'heeheeheeheeheehee', 'skydiving', 'tounge', 'geessh', 'nicer', 'freind', 'givs', 'cpr', 'hahahahahaha', 'killeded', 'du', 'dummmm', 'hohohohhohhoo', 'ewedding', 'fucks', 'sweeeeeeeeet', 'enuf', 'pms', 'leakin', 'agurlwithbigguns', 'eeww', 'eeewwwwww', 'lesbo', 'thristy', 'lyin', 'yessum', 'chocha', 'geesh', 'lovin', 'actualy', 'tryina', 'satisfie', 'anyyyyyyyyyyyyyyyyy', 'fuckin', 'raarrrrrr', 'barbie', 'syndorme', 'jajajaaa', 'hgey', 'mwahhs', 'caan', 'fliuds', 'ifr', 'banned', 'memories', 'appologise', 'mwahhss', 'yada', 'nd', 'exchanging', 'hahaaa', 'shpwing', 'allo', 'lmaooooo', 'ahahha', 'kneez', 'kness', 'yesh', 'kneess', 'ahhah', 'hitting', 'kmph', 'standin', 'riiiight', 'orgies', 'tryer', 'mmmkay', 'lotsa', 'hummmm', 'bbiam', 'whatca', 'willis', 'frustrating', 'cardnials', 'kewl', 'hih', 'copone', 'nicname', 'profilrs', 'doggies', 'gettysburg', 'headach', 'pleaseeeee', 'muahsssssssssssssssssss', 'theere', 'muahssssssssssssssss', 'recieve', 'email', 'paitently', 'pr', 'pasties', 'whhhooooo', 'ridem', 'prono', 'livin', 'missin', 'dawg', 'hugzzzzzzz', 'beatles', 'hendrix', 'boyfriend', 'grilfriend', 'febe', 'wc', 'bj', 'davis', 'estefan', 'tks', 'bigest', 'johny', 'hoo', 'powter', 'zzzzzzzz', 'invisiable', 'heyyyyyy', 'heyyyyyyyy', 'lousiana', 'willams', 'jr', 'beattles', 'conway', 'yoko', 'ono', 'fawker', 'sullivan', 'suprise', 'gn', 'balad', 'moochhhhhhhhh', 'nawwww', 'checkin', 'seee', 'whou', 'idnt', 'zzzzzzzing', 'sooo', 'jammies', 'normy', 'sleepover', 'tennies', 'sleepin', 'http', 'paxil', 'edmonton', 'detroit', 'meds', 'lbs', 'soakin', 'smewchies', 'tennesee', 'ssri', 'antidepressants', 'lubbs', 'withdrawl', 'heyyyyyyyyy', 'zoloft', 'wellbutrin', 'roomate', 'neysa', 'chica', 'controlling', 'dayum', 'excitin', 'heyyyyyyyyyy', 'zyban', 'wantin', 'themself', 'convo', 'mwahs', 'appologize', 'noth', 'nortenos', 'masturbating', 'thx', 'heyyyyyyyyyyyyyy', 'gurlie', 'babycakeses', 'yummylicious', 'icky', 'cuddlicious', 'duh', 'biatch', 'swackhammer', 'mami', 'jucilicious', 'farts', 'eitther', 'beuty', 'everbody', 'itz', 'owuldnt', 'otay', 'happend', 'shorty', 'miiiiiinnnnnnnnnneeeeeeee', 'lllllllliiiiiiiiiikeee', 'miiiiiiiiiiiiinnnnnnnnnnneeeeeeeeee', 'aiiiiiiiiiiiiiiiiiiiiiiii', 'mmmmmmmmiiiiiiiiinnnnnnnnneeeeeeee', 'woooooooooaaaahhhhhhhhhhhh', 'welome', 'throught', 'goodbye', 'backfrontsidewaysandallaroundtheworld', 'paradis', 'dontcha', 'lucifuge', 'paid', 'disocvered', 'woooohoooo', 'ahhhhhhhhhhhhhh', 'homies', 'fck', 'dahlin', 'google', 'othing', 'nevah', 'yvw', 'boi', 'tatatatnanaantatat', 'mmmmmmmmmmmmm', 'mmmomom', 'chcken', 'seminilla', 'walmart', 'ciggareets', 'weeeeeeeeeeeeeeeeeeeeeeeeed', ':D', 'gracemont', 'cst', 'ladz', 'aime', 'xd', 'futurama', 'balck', 'hahahahahahaha', 'biiiiiitch', 'babay', 'kong', 'tok', 'hahahahahahahahahahahahahahahaha', 'twizted', 'nz', 'serties', 'gurrrrl', 'heyheyhey', 'kennedy', 'shouldve', 'jackie', 'barbieee', 'whaaa', 'gret', 'internet', 'irc', 'superhiway', 'jammed', 'gotaa', 'mhm', 'seeee', 'youuuu', 'sunnn', 'goneee', 'dreammm', 'pleez', 'fettish', 'goddamn', 'rarly', 'gorda', 'est', 'chineese', 'manson', 'screamo', 'eeeeeeeeewwwwwwww', 'goodie', 'waaa', 'eay', 'nauty', 'urls', 'url', 'wasup', 'md', 'goodnight', 'bandsaw', 'hangin', 'shinedown', 'ldskdlsf', 'sldfjlsdf', 'sdlfkjsj', 'meeeeeeeeeeeee', 'rey', 'mmmmmmmmmmmmmm', 'cooooooooookiiiiiiiiiiiieeeeeeeeeeee', 'yuuuuuuuuuuuummmmmmmmmmmm', 'vuela', 'descriminate', 'wooo', 'ppolitical', 'anygirl', 'hotties', 'uuuhhh', 'poooland', 'brbbb', 'pedofile', 'slkfjsldkfjs', 'kookies', 'aaaaaaaaaaaaaaaaa', 'raaaaaaaaaaaaaaaaaaaaaaaaaaaaa', 'weeeeeeeeeeeeeeee', 'oooooooooooglyyyyyyyy', 'boooooooooooglyyyyyy', 'coudl', 'nooo', 'comprende', 'appleton', 'canadaian', 'jrz', 'perved', 'norny', 'waddup', 'aiken', 'problemo', 'fucker', 'hel', 'comon', 'trippin', 'eng', 'meyooky', 'frenchkiss', 'xcitable', 'garciae', 'wyte', 'aloha', 'moms', 'trippy', 'salsa', 'okkkkkk', 'hawaii', 'howz', 'burried', 'hheeyyy', 'gguyyyzzzz', 'alohas', 'ufc', 'jonesboro', 'hheeyy', 'guyzz', 'maidstone', 'walderslade', 'catterick', 'ther', 'hheeyyyyyyyyyyyyyyyyyyyyyyyyyyyyyyyyyyyyyyyyyyyyyyy', 'fongul', 'yello', 'alohaaa', 'waz', 'dratts', 'wiltou', 'hyy', 'grettings', 'heyyyyyyy', 'scuba', 'elo', 'coffe', 'placce', 'biebsa', 'alterz', 'llloooozzzzeeerrrrzzzzzzzzzzzzzzzzzzzzzzzzzzzzzzzzzzzzzzzzzzzzzzzzz', 'moonie', 'ntmn', 'az', 'armtnpeat', 'permenant', 'petanmart', 'gng', 'onuimso', 'unisom', 'grea', 'omnious', 'mainland', 'happpy', 'talkcity', 'callifornia', 'tommorrow', 'oy', 'downloading', 'anytime', 'csi', 'dik', 'coworkers', 'wrek', 'dirrrrty', 'innit', 'mornin', 'singleeeeeeee', 'akst', 'soory', 'declawed', 'declaw', 'strickly', 'hmmmmmmmmmm', 'hahahaa', 'chathide', 'laffs', 'yoder', 'mmmmmmmmmm', 'scusezzy', 'tlak', 'eticket', 'ltnc', 'msutah', 'mothas', 'sayn', 'whewwwwww', 'chattin', 'evah', 'aligator', 'sox', 'ohwa', 'tyvm', 'luvs', 'whuuped', 'mmmmmm', 'creme', 'wuuppin', 'whupped', 'estra', 'dryer', 'mising', 'cnnecticut', 'ct', 'allergies', 'connecticutt', 'england', 'usa', 'lavendar', 'ri', 'tighty', 'whiteys', 'exwife', 'femine', 'jerimiah', 'johnson', 'gettin', 'dyslexic', 'blech', 'hissy', 'caiuse', 'hartford', 'affari', 'plenaty', 'indiantown', 'comenting', 'fishercats', 'tooooooooooo', 'fishercat', 'tazzmaniane', 'byeeeeeeeeeeeee', 'arround', 'samn', 'nuff', 'ltr', 'senor', 'everone', 'holdin', 'loveliest', 'nothin', 'courst', 'ooperative', 'sposs', 'tah', 'oc', 'edgewood', 'laguna', 'splains', 'seagulls', 'polllution', 'bumber', 'mena', 'lapd', 'chp', 'gritt', 'cheeeez', 'vroooom', 'thot', 'sw', 'planned', 'sf', 'akron', 'diseast', 'dd', 'stinky', 'husteling', 'teo', 'darwin', 'hrs', 'ontrobution', 'sux', 'lpn', 'puhleaze', 'joking', 'yout', 'homeade', 'peppersteak', 'awsome', 'thah', 'mahn', 'goodnite', 'burger', 'nbc', 'deleware', 'pppppppppppew', 'lonley', 'assholes', 'msners', 'ltns', 'drivin', 'prittier', 'lambergini', 'bitdh', 'bishes', 'lamborgini', 'borat', 'lamborghini', 'chatroom', 'multitasking', 'combo', 'ciara', 'chamillionaire', 'mofo', 'controllin', 'hahahah', 'acros', 'wv', 'beckley', 'evertonr', 'coolcat', 'bacl', 'tabbed', 'ahhahahaha', 'litening', 'fergie', 'fergalicious', 'aaahhhh', 'hhaaaaatttee', 'downloaded', 'ringtones', 'dl', 'akon', 'yoll', 'mooooooooooooooooooooooooooo', 'irl', 'dsklgjsdk', 'hgfhgfjgf', 'fkajslf', 'qwertyuiop', 'froogle', 'flippin', 'lawl', 'pokkies', 'wazz', 'tacoma', 'typr', 'fries', 'fraggle', 'pwns', 'luv', 'wheeeeeeeeeeeeeeeeeeeeeeeeeeeeeeeeee', 'talkiing', 'poeple', 'yeh', 'reschedual', 'sexi', 'atl', 'fl', 'hav', 'waddles', 'bbbbbyyyyyyyeeeeeeeee', 'salisbury', 'bied', 'baord', 'telllin', 'ballin', 'confusing', 'dj', 'freesbee', 'sincy', 'computor', 'cusion', 'latina', 'rutger', 'louisville', 'uhhh', 'tenn', 'adreniline', 'kittie', 'hahaaaa', 'mspace', 'currious', 'insuklting', 'chatt', 'eroticaust', 'wildcard', 'msg', 'holocaustyourmom', 'woah', 'ussy', 'marlaya', 'tisk', 'amazingness', 'nevermind', 'yarrrr', 'horace', 'booyah', 'lampert', 'meh', 'humple', 'ovr', 'hhehe', 'brwn', 'hahhaa', 'bloooooooooooood', 'bloooooooood', 'bloooooooooood', 'dipset', 'birdgang', 'baaaaalllllllliiiiiiinnnnnnnnnnn']\n"
     ]
    }
   ],
   "source": [
    "import nltk\n",
    "from nltk.corpus import nps_chat, words\n",
    "\n",
    "word_list = [word.lower() for word in words.words()]\n",
    "unusual_words = []\n",
    "\n",
    "for file_name in nps_chat.fileids():\n",
    "    filtered_words = []\n",
    "    special_list = []\n",
    "    all_posts = list(nps_chat.words(file_name))\n",
    "\n",
    "    for word in all_posts:\n",
    "        if word.isalpha():\n",
    "            if word.lower() not in filtered_words:\n",
    "                filtered_words.append(word.lower())\n",
    "        elif re.match('[:;][D*P)(>@](?![)(])', word):\n",
    "            filtered_words.append(word)\n",
    "            #print('match = ',word)\n",
    "        #else:\n",
    "            #print(word)\n",
    "    \n",
    "    for word in filtered_words:\n",
    "        if word not in word_list:\n",
    "            special_list.append(word)\n",
    "\n",
    "    #special_list = [word for word in filtered_words if word not in word_list] \n",
    "        \n",
    "    #print(special_list)\n",
    "    #print(len(special_list)) 237\n",
    "\n",
    "    special_list_1 = []\n",
    "\n",
    "    # Removing words ending with 's', 'es', 'ed', 'ing'\n",
    "    for word in special_list:\n",
    "        flag = 0;\n",
    "        if (word.endswith('s') and word[:-1] in word_list) or \\\n",
    "        (word.endswith('es') and word[:-2] in word_list) or \\\n",
    "        (word.endswith('ed') and (word[:-2] in word_list or word[:-1] in word_list)) or \\\n",
    "        (word.endswith('ing') and word[:-3] in word_list):\n",
    "            flag=1\n",
    "    \n",
    "        if flag == 0:\n",
    "            special_list_1.append(word)        \n",
    "    #print(special_list_1)\n",
    "    #print(len(special_list_1))\n",
    "    \n",
    "    for word in special_list_1:\n",
    "        if word not in unusual_words:\n",
    "            unusual_words.append(word)\n",
    "            \n",
    "print('Total number of words:')\n",
    "print(len(unusual_words))            \n",
    "print('\\nUnusual words \\n')            \n",
    "print(unusual_words)"
   ]
  },
  {
   "cell_type": "code",
   "execution_count": null,
   "metadata": {
    "collapsed": true
   },
   "outputs": [],
   "source": []
  }
 ],
 "metadata": {
  "kernelspec": {
   "display_name": "Python 3",
   "language": "python",
   "name": "python3"
  },
  "language_info": {
   "codemirror_mode": {
    "name": "ipython",
    "version": 3
   },
   "file_extension": ".py",
   "mimetype": "text/x-python",
   "name": "python",
   "nbconvert_exporter": "python",
   "pygments_lexer": "ipython3",
   "version": "3.6.0"
  }
 },
 "nbformat": 4,
 "nbformat_minor": 2
}
