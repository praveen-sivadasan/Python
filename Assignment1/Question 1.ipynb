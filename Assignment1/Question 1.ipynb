{
 "cells": [
  {
   "cell_type": "markdown",
   "metadata": {},
   "source": [
    "# Question 1\n",
    "-Under package Gutenberg, see what files are in it.\n",
    "-Find out how many words and how many unique words in file 'austen-persuasion.txt'.\n",
    "-Calculate the frequency for each words and show the top 10 most frequent words and their frequency.\u000b",
    "Try NOT to use FreqDist module.\n",
    "-Keep the punctuation and stop words in this question.\n"
   ]
  },
  {
   "cell_type": "code",
   "execution_count": 1,
   "metadata": {
    "collapsed": false
   },
   "outputs": [],
   "source": [
    "import nltk\n",
    "from nltk.corpus import gutenberg\n"
   ]
  },
  {
   "cell_type": "code",
   "execution_count": 2,
   "metadata": {
    "collapsed": false,
    "scrolled": true
   },
   "outputs": [
    {
     "name": "stdout",
     "output_type": "stream",
     "text": [
      "Number of words in austen-persuasion.txt : \n"
     ]
    },
    {
     "data": {
      "text/plain": [
       "98171"
      ]
     },
     "execution_count": 2,
     "metadata": {},
     "output_type": "execute_result"
    }
   ],
   "source": [
    "L = gutenberg.fileids()\n",
    "# print(L)\n",
    "#print(\"****************\")\n",
    "#for x in L:print(x)\n",
    "#print(\"****************\")\n",
    "#L.sort(key=str.lower)\n",
    "#for x in L:print(x)\n",
    "\n",
    "#len(L)\n",
    "\n",
    "#raw_txt = gutenberg.raw('austen-persuasion.txt')\n",
    "words = gutenberg.words('austen-persuasion.txt')\n",
    "print(\"Number of words in austen-persuasion.txt : \") \n",
    "len(words)\n"
   ]
  },
  {
   "cell_type": "code",
   "execution_count": 3,
   "metadata": {
    "collapsed": false
   },
   "outputs": [
    {
     "name": "stdout",
     "output_type": "stream",
     "text": [
      "Number of unique words in austen-persuasion.txt : \n"
     ]
    },
    {
     "data": {
      "text/plain": [
       "6132"
      ]
     },
     "execution_count": 3,
     "metadata": {},
     "output_type": "execute_result"
    }
   ],
   "source": [
    "uwords = []\n",
    "for x in words:\n",
    "    if x not in uwords: \n",
    "        uwords.append(x)\n",
    "print(\"Number of unique words in austen-persuasion.txt : \")         \n",
    "len(uwords)\n",
    "#len(words)"
   ]
  },
  {
   "cell_type": "code",
   "execution_count": 4,
   "metadata": {
    "collapsed": false
   },
   "outputs": [],
   "source": [
    "fdict = {} #fdict = dict()\n",
    "for x in words:\n",
    "    if fdict.get(x) == None:\n",
    "        fdict[x]=1\n",
    "    else:\n",
    "        fdict[x]=fdict[x]+1           \n",
    "#for key, value in fdict.items():\n",
    "    #print(key,'-',value)  \n",
    "#len(fdict)    "
   ]
  },
  {
   "cell_type": "code",
   "execution_count": 5,
   "metadata": {
    "collapsed": false
   },
   "outputs": [],
   "source": [
    "#sortedlist=sorted(fdict.items(), key=lambda x: x[0])\n",
    "#for key in sortedlist:\n",
    "   # print(key)  "
   ]
  },
  {
   "cell_type": "code",
   "execution_count": 6,
   "metadata": {
    "collapsed": false,
    "scrolled": true
   },
   "outputs": [
    {
     "name": "stdout",
     "output_type": "stream",
     "text": [
      "Top 10 frequent words\n",
      ", - 6750\n",
      "the - 3120\n",
      "to - 2775\n",
      ". - 2741\n",
      "and - 2739\n",
      "of - 2564\n",
      "a - 1529\n",
      "in - 1346\n",
      "was - 1330\n",
      "; - 1290\n"
     ]
    }
   ],
   "source": [
    "print('Top 10 frequent words')\n",
    "s = [(k, fdict[k]) for k in sorted(fdict, key=fdict.get, reverse=True)]\n",
    "count = 0\n",
    "for k, v in s:\n",
    "    if count < 10:\n",
    "        print(k,'-',v)\n",
    "        count = count + 1\n",
    "    else:\n",
    "        break"
   ]
  },
  {
   "cell_type": "code",
   "execution_count": null,
   "metadata": {
    "collapsed": true
   },
   "outputs": [],
   "source": []
  }
 ],
 "metadata": {
  "kernelspec": {
   "display_name": "Python 3",
   "language": "python",
   "name": "python3"
  },
  "language_info": {
   "codemirror_mode": {
    "name": "ipython",
    "version": 3
   },
   "file_extension": ".py",
   "mimetype": "text/x-python",
   "name": "python",
   "nbconvert_exporter": "python",
   "pygments_lexer": "ipython3",
   "version": "3.6.0"
  }
 },
 "nbformat": 4,
 "nbformat_minor": 2
}
