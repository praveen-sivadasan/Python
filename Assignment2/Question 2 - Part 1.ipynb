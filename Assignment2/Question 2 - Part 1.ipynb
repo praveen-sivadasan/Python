{
 "cells": [
  {
   "cell_type": "markdown",
   "metadata": {},
   "source": [
    "# Question 2 - Part 1\n",
    "\n",
    "Read all the json files in the folder called Data.<br>\n",
    "-There are three categories of json files in this folder. They are identified by the key called “term” in each of the json file.<br>\n",
    "-Create a folder structure to read all these json files and store them into these separate folders. You are expected to create a hierarchy of folder structure.<br>\n",
    "-Example:<br>\n",
    "-You can place all restaurants json files in a particular country (say Australia) in the same folder. How you group the json files and create a folder structure is your choice.<br>\n",
    "Your task is to identify criteria by which you can group all these json files and store them.<br>\n",
    "-(You could use these keys to create hierarchy and store json files: Country, city,categories)<br>\n",
    "-Output Format:<br>\n",
    "-Create a folder (Name: Data Processed)<br>\n",
    "-In this folder you should have a hierarchy of folder structures<br>"
   ]
  },
  {
   "cell_type": "code",
   "execution_count": 1,
   "metadata": {
    "collapsed": false
   },
   "outputs": [],
   "source": [
    "import glob, json, errno, os, stat, shutil"
   ]
  },
  {
   "cell_type": "code",
   "execution_count": 2,
   "metadata": {
    "collapsed": true
   },
   "outputs": [],
   "source": [
    "def oneErrorHandler(func, path, exc_info):\n",
    "    if not os.access(path, os.W_OK):\n",
    "        os.chmod(path, stat.S_IWUSR)\n",
    "        func(path)\n",
    "    else:\n",
    "        raise"
   ]
  },
  {
   "cell_type": "code",
   "execution_count": 3,
   "metadata": {
    "collapsed": false,
    "scrolled": false
   },
   "outputs": [
    {
     "name": "stdout",
     "output_type": "stream",
     "text": [
      "Completed creating folder structure\n"
     ]
    }
   ],
   "source": [
    "countries = dict()\n",
    "for filename in glob.glob('Data/*.json'):\n",
    "    with open(filename, 'r') as f:\n",
    "        data = json.load(f)\n",
    "        \n",
    "        country = data['location']['country']\n",
    "        country = country.lower()                                                 #converting to lower caser\n",
    "        country = ' '.join((country).split())                                     #removing extra white spaces\n",
    "        country = 'unknown' if country == '' else country                         #incase the field value is blank\n",
    "\n",
    "        category = data['term']\n",
    "        category = category.lower()\n",
    "        category = ' '.join((category).split())\n",
    "        category = 'unknown' if category == '' else category\n",
    "        \n",
    "        city = data['location']['city']\n",
    "        city = city.lower()\n",
    "        city = ' '.join((city).split())\n",
    "        city = 'unknown' if city == '' else city\n",
    "        \n",
    "        #print(country)\n",
    "        #print(category)\n",
    "        #print(city)\n",
    "        \n",
    "        cities = dict()\n",
    "        if( country in countries):\n",
    "            cities = countries[country]\n",
    "        else:\n",
    "            countries[country] = cities\n",
    "\n",
    "        categories = dict()\n",
    "        if( city in cities):\n",
    "            categories = cities[city]\n",
    "        else:\n",
    "            cities[city] = categories\n",
    "        \n",
    "        json_set = set()\n",
    "        if(category in categories):\n",
    "            json_set = categories[category]\n",
    "        else:\n",
    "            categories[category] = json_set\n",
    "        \n",
    "        json_set.add(filename[5:])\n",
    "\n",
    "#print(countries)        \n",
    "directory='Data Processed'\n",
    "\n",
    "# remove directory code by removing readonly permission handler\n",
    "if os.path.exists(directory):\n",
    "    shutil.rmtree(directory, ignore_errors=False, onerror=None)\n",
    "\n",
    "os.makedirs(directory)\n",
    "for k_country,v_cities in countries.items():\n",
    "    country_path = directory+'\\\\'+ k_country\n",
    "    os.makedirs(country_path)\n",
    "    \n",
    "    for k_city,v_categories in v_cities.items():\n",
    "        #print(k_city)\n",
    "        city_path = country_path+'\\\\'+ k_city\n",
    "        #print(city_path)\n",
    "        os.makedirs(city_path)\n",
    "        \n",
    "        for k_category,v_jsons in v_categories.items():\n",
    "            category_path = city_path + '\\\\' + k_category\n",
    "            os.makedirs(category_path)\n",
    "        \n",
    "            #copying json files\n",
    "            for root, _, filenames in os.walk('Data/'):\n",
    "                for filename in filenames:\n",
    "                    if filename in v_jsons:\n",
    "                        shutil.copy(os.path.join(root, filename), category_path)\n",
    "                \n",
    "print('Completed creating folder structure')        \n",
    "\n"
   ]
  },
  {
   "cell_type": "code",
   "execution_count": 70,
   "metadata": {
    "collapsed": false
   },
   "outputs": [],
   "source": [
    "# Rough Work\n",
    "# walking through alll sub directories inside nltk_data\n",
    "# for root, dirs, files in os.walk(\"D:\\\\nltk_data\"):\n",
    "#     for name in files:\n",
    "#         if name.endswith((\".json\")):\n",
    "#             print(name)\n"
   ]
  },
  {
   "cell_type": "code",
   "execution_count": null,
   "metadata": {
    "collapsed": true
   },
   "outputs": [],
   "source": []
  }
 ],
 "metadata": {
  "kernelspec": {
   "display_name": "Python 3",
   "language": "python",
   "name": "python3"
  },
  "language_info": {
   "codemirror_mode": {
    "name": "ipython",
    "version": 3
   },
   "file_extension": ".py",
   "mimetype": "text/x-python",
   "name": "python",
   "nbconvert_exporter": "python",
   "pygments_lexer": "ipython3",
   "version": "3.6.0"
  }
 },
 "nbformat": 4,
 "nbformat_minor": 2
}
