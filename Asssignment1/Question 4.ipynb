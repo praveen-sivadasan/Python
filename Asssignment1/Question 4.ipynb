{
 "cells": [
  {
   "cell_type": "markdown",
   "metadata": {},
   "source": [
    "# Question 4\n",
    "-Under package nps_chat, see what files are in it.\n",
    "-Find 'user121' and see how many posts he posted in all.\n",
    "-Find out how many unique user in each age range group. (20s, 30s,...)(Hint: files' name)\n",
    "\n"
   ]
  },
  {
   "cell_type": "code",
   "execution_count": 7,
   "metadata": {
    "collapsed": false
   },
   "outputs": [],
   "source": [
    "import nltk\n",
    "from nltk.corpus import nps_chat as nps\n",
    "import xml.etree.ElementTree as ET\n",
    "\n",
    "files = nps.fileids()"
   ]
  },
  {
   "cell_type": "code",
   "execution_count": 8,
   "metadata": {
    "collapsed": false
   },
   "outputs": [],
   "source": [
    "#for word in nps.posts('10-19-20s_706posts.xml'):\n",
    "#    print(word)\n",
    "# prints all statements within post tag\n",
    "#print(nps.raw('10-19-20s_706posts.xml'))"
   ]
  },
  {
   "cell_type": "code",
   "execution_count": 9,
   "metadata": {
    "collapsed": true
   },
   "outputs": [],
   "source": [
    "#final map to store age group and users count\n",
    "age_group_user = dict()"
   ]
  },
  {
   "cell_type": "code",
   "execution_count": 10,
   "metadata": {
    "collapsed": false
   },
   "outputs": [],
   "source": [
    "#Block to retrieve User groups from file names\n",
    "count=0\n",
    "for file_name in files:\n",
    "    file_data = nps.raw(file_name)\n",
    "    user_group=''\n",
    "    for x in file_name:\n",
    "        if x != '_':\n",
    "            user_group= user_group + x\n",
    "        else:\n",
    "            break\n",
    "    user_group = user_group[6:]  \n",
    "    if user_group not in age_group_user:\n",
    "        age_group_user[user_group] = set()\n",
    "    \n",
    "#print(age_group_user)    \n",
    "# ['20s', '30s', '40s', 'adults', 'teens']    "
   ]
  },
  {
   "cell_type": "code",
   "execution_count": 11,
   "metadata": {
    "collapsed": false
   },
   "outputs": [],
   "source": [
    "#for k,v in age_group_user.items():\n",
    "#    print(k)\n",
    "#20s\n",
    "#30s\n",
    "#40s\n",
    "#adults\n",
    "#teens"
   ]
  },
  {
   "cell_type": "code",
   "execution_count": 26,
   "metadata": {
    "collapsed": false
   },
   "outputs": [],
   "source": [
    "user121_count = 0\n",
    "\n",
    "for file in files:\n",
    "    #intialising uniquer_user set\n",
    "    for k in age_group_user:\n",
    "        if k in file:\n",
    "            group_unique_user_set = age_group_user[k]\n",
    "            ug_file = k\n",
    "            #print(k)\n",
    "            break\n",
    "    \n",
    "    tree = ET.parse(nps.abspath(file))\n",
    "    root = tree.getroot()\n",
    "    postsTag = root.find('Posts')\n",
    "    post = postsTag.getchildren()\n",
    "    for p in post:\n",
    "        user_full_name = p.get('user')\n",
    "        #print(user_full_name)\n",
    "        #print(len(ug_file))\n",
    "        user_name = user_full_name[(len(ug_file)+6):]\n",
    "        #print('user_name - ',user_name)\n",
    "        if user_name not in group_unique_user_set:\n",
    "            group_unique_user_set.add(user_name)\n",
    "        if 'User121' in user_full_name:\n",
    "            user121_count += 1\n",
    "            \n",
    "    age_group_user[ug_file] =  group_unique_user_set\n",
    "            "
   ]
  },
  {
   "cell_type": "code",
   "execution_count": 27,
   "metadata": {
    "collapsed": false
   },
   "outputs": [
    {
     "name": "stdout",
     "output_type": "stream",
     "text": [
      "Number of User121 posts in nps_chat : 132\n"
     ]
    }
   ],
   "source": [
    "print('Number of User121 posts in nps_chat :',user121_count)    "
   ]
  },
  {
   "cell_type": "code",
   "execution_count": 28,
   "metadata": {
    "collapsed": false
   },
   "outputs": [
    {
     "name": "stdout",
     "output_type": "stream",
     "text": [
      "\n",
      "User group :  20s\n",
      "Unique users : 162\n",
      "{'User16', 'User130', 'User101', 'User66', 'User50', 'User113', 'User6', 'User155', 'User120', 'User145', 'User107', 'User28', 'User49', 'User139', 'User153', 'User1', 'User100', 'User162', 'User51', 'User8', 'User20', 'User138', 'User10', 'User177', 'User111', 'User129', 'User164', 'User122', 'User135', 'User178', 'User41', 'User91', 'User42', 'User144', 'User127', 'User73', 'User151', 'User30', 'User12', 'User143', 'User3', 'User102', 'User46', 'User161', 'User38', 'User154', 'User82', 'User62', 'User147', 'User159', 'User173', 'User168', 'User35', 'User174', 'User165', 'User179', 'User87', 'User7', 'User57', 'User157', 'User96', 'User5', 'User27', 'User94', 'User172', 'User80', 'User163', 'User72', 'User121', 'User106', 'User88', 'User81', 'User40', 'User64', 'User60', 'User55', 'User79', 'User132', 'User9', 'User84', 'User158', 'User180', 'User68', 'User140', 'User125', 'User108', 'User103', 'User134', 'User83', 'User19', 'User169', 'User136', 'User176', 'User21', 'User89', 'User63', 'User95', 'User105', 'User137', 'User44', 'User133', 'User18', 'User92', 'User17', 'User141', 'User52', 'User14', 'User167', 'User47', 'User23', 'User116', 'User166', 'User124', 'User156', 'User115', 'User149', 'User2', 'User0', 'User109', 'User31', 'User142', 'User114', 'User148', 'User15', 'User160', 'User123', 'User11', 'User56', 'User117', 'User110', 'User74', 'User76', 'User24', 'User34', 'User69', 'User32', 'User150', 'User65', 'User37', 'User119', 'User58', 'User13', 'User43', 'User175', 'User112', 'User67', 'User90', 'User128', 'User104', 'User126', 'User29', 'User59', 'User54', 'User171', 'User33', 'User53', 'User146', 'User170', 'User77', 'User152', 'User131', 'User70'}\n",
      "\n",
      "User group :  30s\n",
      "Unique users : 44\n",
      "{'User16', 'User30', 'User12', 'User11', 'User3', 'User38', 'User19', 'User22', 'User24', 'User28', 'User36', 'User21', 'User4', 'User34', 'User35', 'User7', 'User32', 'User27', 'User5', 'User37', 'User18', 'User44', 'User8', 'User17', 'User20', 'User45', 'User13', 'User43', 'User14', 'User26', 'User10', 'User23', 'User29', 'User2', 'User25', 'User41', 'User0', 'User40', 'User31', 'User9', 'User33', 'User42', 'User39', 'User15'}\n",
      "\n",
      "User group :  40s\n",
      "Unique users : 80\n",
      "{'User16', 'User68', 'User30', 'User12', 'User66', 'User11', 'User3', 'User50', 'User56', 'User46', 'User6', 'User38', 'User62', 'User19', 'User22', 'User71', 'User24', 'User74', 'User28', 'User36', 'User76', 'User4', 'User34', 'User21', 'User35', 'User63', 'User69', 'User49', 'User32', 'User7', 'User57', 'User15', 'User27', 'User1', 'User5', 'User65', 'User37', 'User18', 'User44', 'User8', 'User51', 'User17', 'User20', 'User45', 'User58', 'User13', 'User43', 'User75', 'User52', 'User14', 'User26', 'User47', 'User48', 'User72', 'User10', 'User23', 'User67', 'User29', 'User54', 'User59', 'User2', 'User25', 'User0', 'User41', 'User40', 'User60', 'User64', 'User55', 'User78', 'User79', 'User31', 'User9', 'User33', 'User42', 'User53', 'User77', 'User73', 'User61', 'User39', 'User70'}\n",
      "\n",
      "User group :  adults\n",
      "Unique users : 138\n",
      "{'User16', 'User130', 'User101', 'User66', 'User50', 'User113', 'User131', 'User120', 'User118', 'User107', 'User28', 'User49', 'User93', 'User1', 'User100', 'User51', 'User8', 'User20', 'User138', 'User26', 'User48', 'User10', 'User111', 'User129', 'User85', 'User122', 'User135', 'User41', 'User91', 'User42', 'User127', 'User73', 'User30', 'User12', 'User3', 'User102', 'User46', 'User38', 'User62', 'User82', 'User71', 'User35', 'User87', 'User57', 'User7', 'User96', 'User27', 'User5', 'User94', 'User45', 'User80', 'User72', 'User121', 'User106', 'User88', 'User99', 'User86', 'User81', 'User25', 'User40', 'User60', 'User64', 'User55', 'User79', 'User9', 'User132', 'User84', 'User98', 'User68', 'User108', 'User125', 'User103', 'User134', 'User83', 'User19', 'User136', 'User21', 'User4', 'User89', 'User63', 'User97', 'User95', 'User105', 'User137', 'User44', 'User18', 'User133', 'User17', 'User92', 'User52', 'User14', 'User47', 'User23', 'User116', 'User124', 'User115', 'User2', 'User0', 'User109', 'User31', 'User114', 'User61', 'User15', 'User123', 'User11', 'User56', 'User117', 'User110', 'User22', 'User76', 'User24', 'User74', 'User36', 'User34', 'User69', 'User32', 'User65', 'User37', 'User119', 'User58', 'User43', 'User75', 'User13', 'User112', 'User67', 'User90', 'User104', 'User128', 'User126', 'User29', 'User54', 'User59', 'User78', 'User33', 'User53', 'User77', 'User39', 'User70'}\n",
      "\n",
      "User group :  teens\n",
      "Unique users : 206\n",
      "{'User16', 'User130', 'User101', 'User66', 'User50', 'User6', 'User113', 'User155', 'User120', 'User145', 'User118', 'User107', 'User28', 'User194', 'User49', 'User139', 'User93', 'User153', 'User100', 'User162', 'User51', 'User8', 'User20', 'User205', 'User138', 'User26', 'User190', 'User48', 'User10', 'User177', 'User111', 'User129', 'User85', 'User183', 'User164', 'User122', 'User135', 'User178', 'User41', 'User195', 'User91', 'User144', 'User127', 'User201', 'User187', 'User73', 'User200', 'User151', 'User30', 'User12', 'User3', 'User143', 'User102', 'User46', 'User197', 'User38', 'User161', 'User154', 'User82', 'User62', 'User71', 'User147', 'User159', 'User173', 'User35', 'User168', 'User174', 'User165', 'User179', 'User87', 'User7', 'User57', 'User191', 'User157', 'User96', 'User27', 'User208', 'User94', 'User45', 'User172', 'User80', 'User185', 'User163', 'User72', 'User121', 'User206', 'User106', 'User88', 'User186', 'User99', 'User86', 'User81', 'User25', 'User79', 'User40', 'User64', 'User55', 'User60', 'User132', 'User9', 'User84', 'User158', 'User188', 'User180', 'User98', 'User68', 'User108', 'User125', 'User140', 'User103', 'User134', 'User83', 'User19', 'User169', 'User136', 'User176', 'User89', 'User4', 'User21', 'User63', 'User97', 'User95', 'User105', 'User189', 'User137', 'User44', 'User18', 'User133', 'User17', 'User92', 'User141', 'User52', 'User14', 'User47', 'User167', 'User23', 'User116', 'User166', 'User193', 'User124', 'User156', 'User115', 'User149', 'User181', 'User2', 'User0', 'User109', 'User31', 'User203', 'User142', 'User114', 'User148', 'User61', 'User192', 'User15', 'User160', 'User123', 'User196', 'User202', 'User11', 'User56', 'User117', 'User110', 'User22', 'User76', 'User74', 'User24', 'User36', 'User34', 'User209', 'User69', 'User32', 'User150', 'User65', 'User37', 'User119', 'User58', 'User43', 'User13', 'User75', 'User175', 'User184', 'User112', 'User67', 'User90', 'User104', 'User128', 'User126', 'User29', 'User59', 'User54', 'User171', 'User198', 'User182', 'User199', 'User207', 'User78', 'User204', 'User33', 'User53', 'User146', 'User170', 'User77', 'User152', 'User131', 'User70'}\n"
     ]
    }
   ],
   "source": [
    "for k,v in age_group_user.items():\n",
    "    print('\\nUser group : ',k)\n",
    "    print('Unique users :',len(v))\n",
    "    print(v)"
   ]
  }
 ],
 "metadata": {
  "kernelspec": {
   "display_name": "Python 3",
   "language": "python",
   "name": "python3"
  },
  "language_info": {
   "codemirror_mode": {
    "name": "ipython",
    "version": 3
   },
   "file_extension": ".py",
   "mimetype": "text/x-python",
   "name": "python",
   "nbconvert_exporter": "python",
   "pygments_lexer": "ipython3",
   "version": "3.6.0"
  }
 },
 "nbformat": 4,
 "nbformat_minor": 2
}
