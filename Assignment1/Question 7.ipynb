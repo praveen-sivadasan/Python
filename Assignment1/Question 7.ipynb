{
 "cells": [
  {
   "cell_type": "markdown",
   "metadata": {},
   "source": [
    "# Question 7\n",
    "-Use Name corpus, calculate the probability of a name being of a male or female base on the last character(s) of name.\n",
    "-Sample steps:\n",
    " 1.For char ‘a’:\n",
    "\ttotal_names = sum(names ending with ‘a’)\n",
    "\tmale_names = sum(male names ending with ‘a’)\n",
    "\tfemale_names = sum(female names ending with ‘a’)\n",
    "\tProbability of name being male = 100 * male_names / total_names\n",
    " 2. Do this for all characters. \n",
    "-Output must come with proper title (e.g. [a] male: 25%, female: 60%)\n"
   ]
  },
  {
   "cell_type": "code",
   "execution_count": 5,
   "metadata": {
    "collapsed": false
   },
   "outputs": [],
   "source": [
    "import nltk\n",
    "from nltk.corpus import names\n",
    "from string import ascii_lowercase\n",
    "names.fileids()\n",
    "\n",
    "male_map = {}\n",
    "female_map = {}\n",
    "m_word_set = names.words('male.txt')\n",
    "f_word_set = names.words('female.txt')"
   ]
  },
  {
   "cell_type": "code",
   "execution_count": 6,
   "metadata": {
    "collapsed": false
   },
   "outputs": [
    {
     "name": "stdout",
     "output_type": "stream",
     "text": [
      "[ a ] male:  1.609322974472808 %, female:  98.3906770255272 %\n",
      "[ b ] male:  70.0 %, female:  30.0 %\n",
      "[ c ] male:  100.0 %, female:  0.0 %\n",
      "[ d ] male:  85.3932584269663 %, female:  14.606741573033707 %\n",
      "[ e ] male:  24.63157894736842 %, female:  75.36842105263158 %\n",
      "[ f ] male:  92.5925925925926 %, female:  7.407407407407407 %\n",
      "[ g ] male:  76.19047619047619 %, female:  23.80952380952381 %\n",
      "[ h ] male:  46.96969696969697 %, female:  53.03030303030303 %\n",
      "[ i ] male:  13.623978201634877 %, female:  86.37602179836512 %\n",
      "[ j ] male:  75.0 %, female:  25.0 %\n",
      "[ k ] male:  95.83333333333333 %, female:  4.166666666666667 %\n",
      "[ l ] male:  51.09289617486339 %, female:  48.90710382513661 %\n",
      "[ m ] male:  84.33734939759036 %, female:  15.662650602409638 %\n",
      "[ n ] male:  55.324074074074076 %, female:  44.675925925925924 %\n",
      "[ o ] male:  83.33333333333333 %, female:  16.666666666666668 %\n",
      "[ p ] male:  90.0 %, female:  10.0 %\n",
      "[ q ] male:  0 %, female:  0 %\n",
      "[ r ] male:  80.16877637130801 %, female:  19.831223628691983 %\n",
      "[ s ] male:  71.20743034055728 %, female:  28.792569659442723 %\n",
      "[ t ] male:  70.6896551724138 %, female:  29.310344827586206 %\n",
      "[ u ] male:  66.66666666666667 %, female:  33.333333333333336 %\n",
      "[ v ] male:  88.88888888888889 %, female:  11.11111111111111 %\n",
      "[ w ] male:  77.27272727272727 %, female:  22.727272727272727 %\n",
      "[ x ] male:  50.0 %, female:  50.0 %\n",
      "[ y ] male:  41.86633039092055 %, female:  58.13366960907945 %\n",
      "[ z ] male:  73.33333333333333 %, female:  26.666666666666668 %\n"
     ]
    }
   ],
   "source": [
    "for x in ascii_lowercase:\n",
    "    male_count = 0\n",
    "    for word in m_word_set:\n",
    "        if word.endswith(x):\n",
    "            male_count += 1\n",
    "        \n",
    "    female_count = 0\n",
    "    for word in f_word_set:\n",
    "        if word.endswith(x):\n",
    "            female_count += 1\n",
    "        \n",
    "    male_map[x] = 0 if (male_count+female_count) == 0 else (100*male_count)/(male_count+female_count)\n",
    "    female_map[x] = 0 if (male_count+female_count) == 0 else (100*female_count)/(male_count+female_count)\n",
    "    print('[',x,'] male: ',male_map[x],'%, female: ',female_map[x],'%')\n",
    "\n",
    "    "
   ]
  },
  {
   "cell_type": "code",
   "execution_count": null,
   "metadata": {
    "collapsed": true
   },
   "outputs": [],
   "source": []
  }
 ],
 "metadata": {
  "kernelspec": {
   "display_name": "Python 3",
   "language": "python",
   "name": "python3"
  },
  "language_info": {
   "codemirror_mode": {
    "name": "ipython",
    "version": 3
   },
   "file_extension": ".py",
   "mimetype": "text/x-python",
   "name": "python",
   "nbconvert_exporter": "python",
   "pygments_lexer": "ipython3",
   "version": "3.6.0"
  }
 },
 "nbformat": 4,
 "nbformat_minor": 2
}
