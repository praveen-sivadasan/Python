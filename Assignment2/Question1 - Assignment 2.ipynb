{
 "cells": [
  {
   "cell_type": "markdown",
   "metadata": {},
   "source": [
    "# Question 1\n",
    "- Use ’glob’ to open and read file. If read multiple files use LOOP to achieve.<br>\n",
    "- Create at least one function and one lambda function.<br>\n",
    "- Save your data as an CSV file contains (Word, Rank, Frequency) with TITLE and Sort it by RANK.<br>\n",
    "- Open your CSV file, generate a log-log figure according to the data you saved.\n",
    "- Write a conclusion at the end of your code base on your figure."
   ]
  },
  {
   "cell_type": "markdown",
   "metadata": {},
   "source": [
    "----- Importing files ------"
   ]
  },
  {
   "cell_type": "code",
   "execution_count": 16,
   "metadata": {
    "collapsed": false
   },
   "outputs": [],
   "source": [
    "#Use ’glob’ to open and read file. If read multiple files use LOOP to achieve\n",
    "import nltk, glob, os, csv\n",
    "from nltk.corpus import gutenberg"
   ]
  },
  {
   "cell_type": "markdown",
   "metadata": {},
   "source": [
    "--- initializing variables ----"
   ]
  },
  {
   "cell_type": "code",
   "execution_count": 17,
   "metadata": {
    "collapsed": true
   },
   "outputs": [],
   "source": [
    "count = 1;\n",
    "file_path = (gutenberg.abspath('shakespeare-caesar.txt')[:-22]) + 'shakespeare*.txt'\n",
    "#D:\\\\nltk_data\\\\corpora\\\\gutenberg\\\\shakespeare*.txt\n",
    "x = len(gutenberg.abspath('shakespeare-caesar.txt'))\n",
    "path_length = (lambda x:x-22)(x)\n",
    "word_list = {}\n",
    "file_directory = (gutenberg.abspath('shakespeare-caesar.txt'))[:-22]\n",
    "format = \"%a %b %d %H:%M:%S %Y\""
   ]
  },
  {
   "cell_type": "markdown",
   "metadata": {},
   "source": [
    "--- defining functions ----"
   ]
  },
  {
   "cell_type": "code",
   "execution_count": 20,
   "metadata": {
    "collapsed": false
   },
   "outputs": [],
   "source": [
    "#defining function to sort the dictionary\n",
    "def count_words_infile(filename):\n",
    "    words_in_file = gutenberg.words(filename)\n",
    "    for word in words_in_file:\n",
    "        if word.isalpha():\n",
    "            word_list[word] = word_list.get(word, 0) + 1\n",
    "\n"
   ]
  },
  {
   "cell_type": "code",
   "execution_count": 9,
   "metadata": {
    "collapsed": false
   },
   "outputs": [
    {
     "name": "stdout",
     "output_type": "stream",
     "text": [
      "counting words in shakespeare files.\n",
      "sorting word list.\n"
     ]
    }
   ],
   "source": [
    "# counting words in shakespeare files          \n",
    "print('counting words in shakespeare files.')\n",
    "for filename in glob.glob(file_path):\n",
    "    with open(filename, 'r') as f:\n",
    "        count_words_infile(filename[path_length:])\n",
    "        \n",
    "#sorting the list\n",
    "print('sorting word list.')\n",
    "sorted_word_list = [(k, word_list[k]) for k in sorted(word_list, key=word_list.get, reverse=True)]"
   ]
  },
  {
   "cell_type": "code",
   "execution_count": 10,
   "metadata": {
    "collapsed": false
   },
   "outputs": [
    {
     "name": "stdout",
     "output_type": "stream",
     "text": [
      "Opening csv file.\n",
      "Writing into csv file.\n",
      "Writing csv file completed.\n"
     ]
    }
   ],
   "source": [
    "#open csv file and write title\n",
    "print('Opening csv file.')\n",
    "open_csv_file = open('rank.csv','w')\n",
    "csv_writer = csv.writer(open_csv_file, delimiter=',', lineterminator='\\n')\n",
    "csv_writer.writerows([['Word','Rank','Frequency']])\n",
    "\n",
    "# writing words,rank and frequency into csv file\n",
    "print('Writing into csv file.')\n",
    "for k,v in sorted_word_list:\n",
    "    csv_writer.writerow((k, count, v))\n",
    "    count += 1\n",
    "open_csv_file.close() \n",
    "print('Writing csv file completed.')#8939"
   ]
  },
  {
   "cell_type": "code",
   "execution_count": 11,
   "metadata": {
    "collapsed": false
   },
   "outputs": [
    {
     "data": {
      "image/png": "[encoded data removed]",
      "text/plain": [
       "<matplotlib.figure.Figure at 0xcab6c311d0>"
      ]
     },
     "metadata": {},
     "output_type": "display_data"
    },
    {
     "name": "stdout",
     "output_type": "stream",
     "text": [
      "Plotting data completed.\n"
     ]
    }
   ],
   "source": [
    "import matplotlib.pyplot as plt\n",
    "words = []\n",
    "frequency = []\n",
    "count=0\n",
    "with open('rank.csv','r') as csvf:\n",
    "    plots = csv.reader(csvf, delimiter=',', lineterminator='\\n')\n",
    "    for row in plots:\n",
    "        if(count >0):\n",
    "            words.append(int(row[1]))\n",
    "            frequency.append(int(row[2]))\n",
    "        count += 1\n",
    "\n",
    "#print(words)\n",
    "#print(frequency)\n",
    "plt.loglog(words,frequency, label='Loaded from rank.csv!')\n",
    "plt.xlabel('Word Rank ->')\n",
    "plt.ylabel('Frequency')\n",
    "plt.legend()\n",
    "plt.show()\n",
    "print('Plotting data completed.')\n",
    "        "
   ]
  },
  {
   "cell_type": "code",
   "execution_count": 23,
   "metadata": {
    "collapsed": false
   },
   "outputs": [
    {
     "name": "stdout",
     "output_type": "stream",
     "text": [
      "The above diagram shows that the top 20% of the words contains 80% of text from shakespeare files in gutenberg. The data also conform to Zipfs law to the extent that the plot is linear for a log-log graph.\n"
     ]
    }
   ],
   "source": [
    "print('The above diagram shows that the top 20% of the words contains 80% of text from shakespeare files in gutenberg. The data also conform to Zipfs law to the extent that the plot is linear for a log-log graph.')"
   ]
  },
  {
   "cell_type": "code",
   "execution_count": 193,
   "metadata": {
    "collapsed": true
   },
   "outputs": [],
   "source": [
    "#'melville-moby_dick.txt',\n",
    "#'milton-paradise.txt',\n",
    "#'shakespeare-caesar.txt',\n",
    "#'shakespeare-hamlet.txt',\n",
    "#'shakespeare-macbeth.txt',\n",
    "# whitman-leaves.txt\n",
    "#fpath = gutenberg.abspath('shakespeare-caesar.txt')\n",
    "#FileSystemPathPointer('D:\\\\nltk_data\\\\corpora\\\\gutenberg\\\\austen-emma.txt')\n",
    "\n",
    "#filtered_words = [word for word in file-data if word not in web-words]\n"
   ]
  },
  {
   "cell_type": "code",
   "execution_count": null,
   "metadata": {
    "collapsed": true
   },
   "outputs": [],
   "source": []
  }
 ],
 "metadata": {
  "kernelspec": {
   "display_name": "Python 3",
   "language": "python",
   "name": "python3"
  },
  "language_info": {
   "codemirror_mode": {
    "name": "ipython",
    "version": 3
   },
   "file_extension": ".py",
   "mimetype": "text/x-python",
   "name": "python",
   "nbconvert_exporter": "python",
   "pygments_lexer": "ipython3",
   "version": "3.6.0"
  }
 },
 "nbformat": 4,
 "nbformat_minor": 2
}
