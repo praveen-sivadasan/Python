{
 "cells": [
  {
   "cell_type": "code",
   "execution_count": null,
   "metadata": {
    "collapsed": true
   },
   "outputs": [],
   "source": [
    "import pandas as pd\n",
    "import calendar\n",
    "\n",
    "#reading csv file\n",
    "vc = pd.read_csv(\"../Data/vehicle_collisions.csv\")"
   ]
  },
  {
   "cell_type": "code",
   "execution_count": null,
   "metadata": {
    "collapsed": false
   },
   "outputs": [],
   "source": [
    "# Convert argument to datetime and adding column to \n",
    "vc['DATE_TIME'] = pd.to_datetime(vc['DATE'])\n",
    "\n",
    "#Adding month column vc by fetch from DATE_TIME\n",
    "vc['MONTH'] = pd.DatetimeIndex(vc['DATE_TIME']).month\n",
    "\n",
    "#Adding year column vc by fetch from DATE_TIME\n",
    "vc['YEAR'] = pd.DatetimeIndex(vc['DATE']).year\n",
    "\n",
    "vc.head()\n"
   ]
  },
  {
   "cell_type": "code",
   "execution_count": 23,
   "metadata": {
    "collapsed": false
   },
   "outputs": [],
   "source": [
    "#vehicle collisions in 2016\n",
    "vc_in_2016 = vc[vc['YEAR']==2016] \n",
    "\n",
    "#vehicles Collisions in Manhattan in 2016\n",
    "vc_2016_Manhattan = vc_in_2016[vc_in_2016['BOROUGH']=='MANHATTAN']\n",
    "\n",
    "#manhattan count accidents in each month\n",
    "vc_m2016_count_Manhattan = vc_2016_Manhattan.groupby(vc_2016_Manhattan['MONTH']).agg('count')\n",
    "\n",
    " # To get instances of the accidents by unique keys in Manhattan\n",
    "vc_m2016_count_Manhattan_unique = vc_m2016_count_Manhattan['UNIQUE KEY']\n",
    "\n",
    "#print(vc_m2016_count_Manhattan_unique)\n",
    "\n",
    "#nyc count accidents in month\n",
    "vc_m2016_count_nyc = vc_in_2016.groupby([vc_in_2016['MONTH']]).agg('count')\n",
    "\n",
    " #To get instances of the accidents by unique keys in New York Overall\n",
    "vc_m2016_count_nyc_unique = vc_m2016_count_nyc['UNIQUE KEY']\n"
   ]
  },
  {
   "cell_type": "code",
   "execution_count": 24,
   "metadata": {
    "collapsed": false
   },
   "outputs": [
    {
     "data": {
      "text/html": [
       "<div>\n",
       "<table border=\"1\" class=\"dataframe\">\n",
       "  <thead>\n",
       "    <tr style=\"text-align: right;\">\n",
       "      <th></th>\n",
       "      <th>MONTH</th>\n",
       "      <th>MANHATTAN</th>\n",
       "      <th>NYC</th>\n",
       "      <th>PERCENTAGE</th>\n",
       "    </tr>\n",
       "    <tr>\n",
       "      <th>MONTH</th>\n",
       "      <th></th>\n",
       "      <th></th>\n",
       "      <th></th>\n",
       "      <th></th>\n",
       "    </tr>\n",
       "  </thead>\n",
       "  <tbody>\n",
       "    <tr>\n",
       "      <th>1</th>\n",
       "      <td>Jan</td>\n",
       "      <td>3178</td>\n",
       "      <td>18101</td>\n",
       "      <td>17.557041</td>\n",
       "    </tr>\n",
       "    <tr>\n",
       "      <th>2</th>\n",
       "      <td>Feb</td>\n",
       "      <td>3195</td>\n",
       "      <td>15985</td>\n",
       "      <td>19.987488</td>\n",
       "    </tr>\n",
       "    <tr>\n",
       "      <th>3</th>\n",
       "      <td>Mar</td>\n",
       "      <td>3479</td>\n",
       "      <td>18471</td>\n",
       "      <td>18.834930</td>\n",
       "    </tr>\n",
       "    <tr>\n",
       "      <th>4</th>\n",
       "      <td>Apr</td>\n",
       "      <td>3540</td>\n",
       "      <td>18331</td>\n",
       "      <td>19.311549</td>\n",
       "    </tr>\n",
       "    <tr>\n",
       "      <th>5</th>\n",
       "      <td>May</td>\n",
       "      <td>3432</td>\n",
       "      <td>20052</td>\n",
       "      <td>17.115500</td>\n",
       "    </tr>\n",
       "    <tr>\n",
       "      <th>6</th>\n",
       "      <td>Jun</td>\n",
       "      <td>2956</td>\n",
       "      <td>19433</td>\n",
       "      <td>15.211239</td>\n",
       "    </tr>\n",
       "    <tr>\n",
       "      <th>7</th>\n",
       "      <td>Jul</td>\n",
       "      <td>3055</td>\n",
       "      <td>19867</td>\n",
       "      <td>15.377259</td>\n",
       "    </tr>\n",
       "    <tr>\n",
       "      <th>8</th>\n",
       "      <td>Aug</td>\n",
       "      <td>2844</td>\n",
       "      <td>19678</td>\n",
       "      <td>14.452688</td>\n",
       "    </tr>\n",
       "    <tr>\n",
       "      <th>9</th>\n",
       "      <td>Sep</td>\n",
       "      <td>2744</td>\n",
       "      <td>19492</td>\n",
       "      <td>14.077570</td>\n",
       "    </tr>\n",
       "    <tr>\n",
       "      <th>10</th>\n",
       "      <td>Oct</td>\n",
       "      <td>2831</td>\n",
       "      <td>19666</td>\n",
       "      <td>14.395403</td>\n",
       "    </tr>\n",
       "    <tr>\n",
       "      <th>11</th>\n",
       "      <td>Nov</td>\n",
       "      <td>2838</td>\n",
       "      <td>19315</td>\n",
       "      <td>14.693244</td>\n",
       "    </tr>\n",
       "    <tr>\n",
       "      <th>12</th>\n",
       "      <td>Dec</td>\n",
       "      <td>2634</td>\n",
       "      <td>19214</td>\n",
       "      <td>13.708754</td>\n",
       "    </tr>\n",
       "  </tbody>\n",
       "</table>\n",
       "</div>"
      ],
      "text/plain": [
       "      MONTH  MANHATTAN    NYC  PERCENTAGE\n",
       "MONTH                                    \n",
       "1       Jan       3178  18101   17.557041\n",
       "2       Feb       3195  15985   19.987488\n",
       "3       Mar       3479  18471   18.834930\n",
       "4       Apr       3540  18331   19.311549\n",
       "5       May       3432  20052   17.115500\n",
       "6       Jun       2956  19433   15.211239\n",
       "7       Jul       3055  19867   15.377259\n",
       "8       Aug       2844  19678   14.452688\n",
       "9       Sep       2744  19492   14.077570\n",
       "10      Oct       2831  19666   14.395403\n",
       "11      Nov       2838  19315   14.693244\n",
       "12      Dec       2634  19214   13.708754"
      ]
     },
     "execution_count": 24,
     "metadata": {},
     "output_type": "execute_result"
    }
   ],
   "source": [
    "result = pd.concat([vc_m2016_count_Manhattan_unique,vc_m2016_count_nyc_unique],axis=1)\n",
    "#result This will show month index, Manhattan and NYC\n",
    "result.columns.values[0]= \"MANHATTAN\"\n",
    "result.columns.values[1]= \"NYC\"\n",
    "\n",
    "#result This will add the percentage column after dividing the first two columns\n",
    "result['PERCENTAGE']=result[['MANHATTAN']].div(result['NYC'],axis=0)\n",
    "\n",
    "#TO Calculate % we need to multiple 100 to last row\n",
    "result['PERCENTAGE']=result['PERCENTAGE'].apply(lambda x:x*100) \n",
    "\n",
    "result.index\n",
    "\n",
    "#Adding the value of index from 1,2,3.. to Jan, Feb, March...etc\n",
    "#result['MONTH'] = result.index.get_level_values('MONTH')\n",
    "\n",
    "#import calendar\n",
    "#result['MONTH'] = result.index.astype(str).astype(int).apply(lambda x: calendar.month_abbr[x])\n",
    "\n",
    "result['MONTH'] = result.index.astype(str).astype(int)\n",
    "\n",
    "result['MONTH'] = result['MONTH'].apply(lambda x: calendar.month_abbr[x])\n",
    "\n",
    "result\n",
    "\n",
    "finalresult = result[['MONTH','MANHATTAN','NYC','PERCENTAGE']]\n",
    "\n",
    "finalresult"
   ]
  },
  {
   "cell_type": "code",
   "execution_count": 25,
   "metadata": {
    "collapsed": true
   },
   "outputs": [],
   "source": [
    "finalresult.to_csv('solution_q1_p1.csv',index=False,sep=',')"
   ]
  },
  {
   "cell_type": "code",
   "execution_count": null,
   "metadata": {
    "collapsed": true
   },
   "outputs": [],
   "source": []
  }
 ],
 "metadata": {
  "kernelspec": {
   "display_name": "Python 3",
   "language": "python",
   "name": "python3"
  },
  "language_info": {
   "codemirror_mode": {
    "name": "ipython",
    "version": 3
   },
   "file_extension": ".py",
   "mimetype": "text/x-python",
   "name": "python",
   "nbconvert_exporter": "python",
   "pygments_lexer": "ipython3",
   "version": "3.6.0"
  }
 },
 "nbformat": 4,
 "nbformat_minor": 2
}
