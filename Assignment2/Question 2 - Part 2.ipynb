{
 "cells": [
  {
   "cell_type": "markdown",
   "metadata": {},
   "source": [
    "# Question 2 - Part 2\n",
    "\n",
    "Read all the jsonfiles in the folder called Data.<br>\n",
    "•\tRead only the jsonfiles which contain the key called “restaurants”<br>\n",
    "•\tEach (or most of the jsonfiles) contain a key called “open” which contains the details of the operation (timings) of the restaurants. For each jsonfile, read the timings of the restaurants. <br>\n",
    "•\tData of the operation timings of the restaurants is present for each day of the week. I want you to extract each of this data and write it in an excel sheet. <br>\n",
    "•\tExample: <br>\n",
    "•\tFor a particular restaurant named “The Coffee Grounds”, the excel sheet should look like this:<br>\n",
    "\n"
   ]
  },
  {
   "cell_type": "code",
   "execution_count": 1,
   "metadata": {
    "collapsed": true
   },
   "outputs": [],
   "source": [
    "import glob, json, errno, os, stat, shutil"
   ]
  },
  {
   "cell_type": "code",
   "execution_count": 2,
   "metadata": {
    "collapsed": false
   },
   "outputs": [],
   "source": [
    "def getColumnValue(data):\n",
    "    data = data.lower()\n",
    "    data = ' '.join((data).split())\n",
    "    data = 'unknown' if data == '' else data\n",
    "    return data"
   ]
  },
  {
   "cell_type": "code",
   "execution_count": 3,
   "metadata": {
    "collapsed": false
   },
   "outputs": [
    {
     "name": "stdout",
     "output_type": "stream",
     "text": [
      "Restaurant data gathering completed.\n"
     ]
    }
   ],
   "source": [
    "restaurants = dict()\n",
    "\n",
    "for filename in glob.glob('Data/*.json'):\n",
    "    with open(filename, 'r') as f:\n",
    "        data = json.load(f)\n",
    "        \n",
    "        category = getColumnValue(data['term'])\n",
    "        name = data['name']\n",
    "        \n",
    "        if(category == 'restaurants'):\n",
    "            \n",
    "            restaurant_list = [] #list of tuples\n",
    "            if(name in restaurants):\n",
    "                restaurant_list = restaurants[name]\n",
    "            else:\n",
    "                restaurants[name] = restaurant_list\n",
    "            \n",
    "            city = getColumnValue(data['location']['city'])\n",
    "            country_code = getColumnValue(data['location']['country'])\n",
    "            day = ''\n",
    "            start_time_hour = ''\n",
    "            start_time_minute = ''\n",
    "            end_time_hour = ''\n",
    "            end_time_minute = ''\n",
    "            \n",
    "            if('hours' in data and 'open' in data['hours'][0]):\n",
    "                open_hours = data['hours'][0]['open']\n",
    "                for timing in open_hours:\n",
    "                    restaurant_list.append((city,country_code,timing['day'],timing['start'][:-2],\n",
    "                                            timing['start'][(len(timing['start']) -2):],timing['end'][:-2],\n",
    "                                            timing['end'][(len(timing['end']) -2):]))\n",
    "            else:\n",
    "                restaurant_list.append((city,country_code,day,start_time_hour,start_time_minute,end_time_hour,end_time_minute))\n",
    "                \n",
    "print('Restaurant data gathering completed.')    "
   ]
  },
  {
   "cell_type": "code",
   "execution_count": 4,
   "metadata": {
    "collapsed": false
   },
   "outputs": [
    {
     "name": "stdout",
     "output_type": "stream",
     "text": [
      "Writing to xls completed\n"
     ]
    }
   ],
   "source": [
    "import xlwt\n",
    "\n",
    "wb = xlwt.Workbook()\n",
    "ws = wb.add_sheet('Restaurant Timing Sheet')\n",
    "style0 = xlwt.easyxf('font: name Times New Roman, color-index black, bold on')\n",
    "\n",
    "ws.write(0, 0,'Name of restaurant', style0)\n",
    "ws.write(0, 1,'City', style0)\n",
    "ws.write(0, 2,'Country Code', style0)\n",
    "ws.write(0, 3,'Day of week', style0)\n",
    "ws.write(0, 4,'Start Time Hour', style0)\n",
    "ws.write(0, 5,'Start Time Minute', style0)\n",
    "ws.write(0, 6,'End Time Hour', style0)\n",
    "ws.write(0, 7,'End Time Minute', style0)\n",
    "\n",
    "x = 0;\n",
    "y = 1;\n",
    "\n",
    "for shop,timings in restaurants.items():\n",
    "    for timing in timings:\n",
    "        #print(x)\n",
    "        #print(y)\n",
    "        ws.write(y, x, shop)\n",
    "        x += 1\n",
    "        ws.write(y, x,timing[0])\n",
    "        x += 1\n",
    "        ws.write(y, x,timing[1])\n",
    "        x += 1\n",
    "        ws.write(y, x,timing[2])\n",
    "        x += 1\n",
    "        ws.write(y, x,timing[3])\n",
    "        x += 1\n",
    "        ws.write(y, x,timing[4])\n",
    "        x += 1\n",
    "        ws.write(y, x,timing[5])\n",
    "        x += 1\n",
    "        ws.write(y, x,timing[6])\n",
    "      \n",
    "        y += 1\n",
    "        x = 0\n",
    "\n",
    "wb.save('Restaurant_opening.xls')\n",
    "print('Writing to xls completed')\n"
   ]
  },
  {
   "cell_type": "code",
   "execution_count": null,
   "metadata": {
    "collapsed": true
   },
   "outputs": [],
   "source": []
  }
 ],
 "metadata": {
  "kernelspec": {
   "display_name": "Python 3",
   "language": "python",
   "name": "python3"
  },
  "language_info": {
   "codemirror_mode": {
    "name": "ipython",
    "version": 3
   },
   "file_extension": ".py",
   "mimetype": "text/x-python",
   "name": "python",
   "nbconvert_exporter": "python",
   "pygments_lexer": "ipython3",
   "version": "3.6.0"
  }
 },
 "nbformat": 4,
 "nbformat_minor": 2
}
