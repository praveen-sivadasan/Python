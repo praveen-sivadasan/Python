{
 "cells": [
  {
   "cell_type": "markdown",
   "metadata": {},
   "source": [
    "# Question 2\n",
    "-Under package Gutenberg get content from file 'melville-moby_dick.txt.' (HINT: Words? Raw?)\n",
    "-Find out frequency of 26 characters. (Turn uppercase into lowercase and count as one character)\n",
    "-List all 26 characters in order base on their frequency. (From most frequent to least frequent)"
   ]
  },
  {
   "cell_type": "code",
   "execution_count": 1,
   "metadata": {
    "collapsed": true
   },
   "outputs": [],
   "source": [
    "import nltk\n",
    "from nltk.corpus import gutenberg\n",
    "from string import ascii_lowercase\n",
    "\n",
    "rawText = gutenberg.raw('melville-moby_dick.txt')\n",
    "#len(rawText)"
   ]
  },
  {
   "cell_type": "code",
   "execution_count": 2,
   "metadata": {
    "collapsed": false
   },
   "outputs": [
    {
     "name": "stdout",
     "output_type": "stream",
     "text": [
      "Frequency of 26 characters\n",
      "a - 77916\n",
      "b - 16877\n",
      "c - 22507\n",
      "d - 38219\n",
      "e - 117092\n",
      "f - 20833\n",
      "g - 20820\n",
      "h - 62896\n",
      "i - 65434\n",
      "j - 1082\n",
      "k - 8059\n",
      "l - 42793\n",
      "m - 23277\n",
      "n - 65617\n",
      "o - 69326\n",
      "p - 17255\n",
      "q - 1556\n",
      "r - 52134\n",
      "s - 64231\n",
      "t - 87996\n",
      "u - 26697\n",
      "v - 8598\n",
      "w - 22222\n",
      "x - 1030\n",
      "y - 16872\n",
      "z - 632\n"
     ]
    }
   ],
   "source": [
    "dic = {}\n",
    "for x in ascii_lowercase:\n",
    "    dic[x] = rawText.lower().count(x)\n",
    "\n",
    "print('Frequency of 26 characters')    \n",
    "    \n",
    "for key, value in dic.items():\n",
    "    print(key,'-',value)"
   ]
  },
  {
   "cell_type": "code",
   "execution_count": 3,
   "metadata": {
    "collapsed": false
   },
   "outputs": [
    {
     "name": "stdout",
     "output_type": "stream",
     "text": [
      "Re-ordered list\n",
      "e - 117092\n",
      "t - 87996\n",
      "a - 77916\n",
      "o - 69326\n",
      "n - 65617\n",
      "i - 65434\n",
      "s - 64231\n",
      "h - 62896\n",
      "r - 52134\n",
      "l - 42793\n",
      "d - 38219\n",
      "u - 26697\n",
      "m - 23277\n",
      "c - 22507\n",
      "w - 22222\n",
      "f - 20833\n",
      "g - 20820\n",
      "p - 17255\n",
      "b - 16877\n",
      "y - 16872\n",
      "v - 8598\n",
      "k - 8059\n",
      "q - 1556\n",
      "j - 1082\n",
      "x - 1030\n",
      "z - 632\n"
     ]
    }
   ],
   "source": [
    "print('Re-ordered list')    \n",
    "\n",
    "s = [(k, dic[k]) for k in sorted(dic, key=dic.get, reverse=True)]\n",
    "count = 0\n",
    "for k, v in s:\n",
    "    print(k,'-',v)"
   ]
  }
 ],
 "metadata": {
  "kernelspec": {
   "display_name": "Python 3",
   "language": "python",
   "name": "python3"
  },
  "language_info": {
   "codemirror_mode": {
    "name": "ipython",
    "version": 3
   },
   "file_extension": ".py",
   "mimetype": "text/x-python",
   "name": "python",
   "nbconvert_exporter": "python",
   "pygments_lexer": "ipython3",
   "version": "3.6.0"
  }
 },
 "nbformat": 4,
 "nbformat_minor": 2
}
